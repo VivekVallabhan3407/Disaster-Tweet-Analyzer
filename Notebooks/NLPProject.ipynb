{
  "nbformat": 4,
  "nbformat_minor": 0,
  "metadata": {
    "colab": {
      "provenance": [],
      "gpuType": "T4"
    },
    "kernelspec": {
      "name": "python3",
      "display_name": "Python 3"
    },
    "language_info": {
      "name": "python"
    },
    "accelerator": "GPU"
  },
  "cells": [
    {
      "cell_type": "code",
      "source": [
        "from google.colab import drive\n",
        "drive.mount('/content/drive')"
      ],
      "metadata": {
        "colab": {
          "base_uri": "https://localhost:8080/"
        },
        "id": "tJvxTjX4xRhF",
        "outputId": "b615d24d-0eaf-4192-bc85-7d24668789b9"
      },
      "execution_count": 6,
      "outputs": [
        {
          "output_type": "stream",
          "name": "stdout",
          "text": [
            "Drive already mounted at /content/drive; to attempt to forcibly remount, call drive.mount(\"/content/drive\", force_remount=True).\n"
          ]
        }
      ]
    },
    {
      "cell_type": "code",
      "execution_count": 1,
      "metadata": {
        "id": "gBG64kCoDeh2",
        "colab": {
          "base_uri": "https://localhost:8080/"
        },
        "outputId": "dd731dda-02a0-4925-ee2d-e8c6657ea3d2"
      },
      "outputs": [
        {
          "output_type": "stream",
          "name": "stdout",
          "text": [
            "Requirement already satisfied: pandas in /usr/local/lib/python3.12/dist-packages (2.2.2)\n",
            "Requirement already satisfied: numpy in /usr/local/lib/python3.12/dist-packages (2.0.2)\n",
            "Requirement already satisfied: scikit-learn in /usr/local/lib/python3.12/dist-packages (1.6.1)\n",
            "Requirement already satisfied: python-dateutil>=2.8.2 in /usr/local/lib/python3.12/dist-packages (from pandas) (2.9.0.post0)\n",
            "Requirement already satisfied: pytz>=2020.1 in /usr/local/lib/python3.12/dist-packages (from pandas) (2025.2)\n",
            "Requirement already satisfied: tzdata>=2022.7 in /usr/local/lib/python3.12/dist-packages (from pandas) (2025.2)\n",
            "Requirement already satisfied: scipy>=1.6.0 in /usr/local/lib/python3.12/dist-packages (from scikit-learn) (1.16.2)\n",
            "Requirement already satisfied: joblib>=1.2.0 in /usr/local/lib/python3.12/dist-packages (from scikit-learn) (1.5.2)\n",
            "Requirement already satisfied: threadpoolctl>=3.1.0 in /usr/local/lib/python3.12/dist-packages (from scikit-learn) (3.6.0)\n",
            "Requirement already satisfied: six>=1.5 in /usr/local/lib/python3.12/dist-packages (from python-dateutil>=2.8.2->pandas) (1.17.0)\n",
            "Requirement already satisfied: torch in /usr/local/lib/python3.12/dist-packages (2.8.0+cu126)\n",
            "Requirement already satisfied: transformers[sentencepiece] in /usr/local/lib/python3.12/dist-packages (4.56.1)\n",
            "Requirement already satisfied: filelock in /usr/local/lib/python3.12/dist-packages (from transformers[sentencepiece]) (3.19.1)\n",
            "Requirement already satisfied: huggingface-hub<1.0,>=0.34.0 in /usr/local/lib/python3.12/dist-packages (from transformers[sentencepiece]) (0.35.0)\n",
            "Requirement already satisfied: numpy>=1.17 in /usr/local/lib/python3.12/dist-packages (from transformers[sentencepiece]) (2.0.2)\n",
            "Requirement already satisfied: packaging>=20.0 in /usr/local/lib/python3.12/dist-packages (from transformers[sentencepiece]) (25.0)\n",
            "Requirement already satisfied: pyyaml>=5.1 in /usr/local/lib/python3.12/dist-packages (from transformers[sentencepiece]) (6.0.2)\n",
            "Requirement already satisfied: regex!=2019.12.17 in /usr/local/lib/python3.12/dist-packages (from transformers[sentencepiece]) (2024.11.6)\n",
            "Requirement already satisfied: requests in /usr/local/lib/python3.12/dist-packages (from transformers[sentencepiece]) (2.32.4)\n",
            "Requirement already satisfied: tokenizers<=0.23.0,>=0.22.0 in /usr/local/lib/python3.12/dist-packages (from transformers[sentencepiece]) (0.22.0)\n",
            "Requirement already satisfied: safetensors>=0.4.3 in /usr/local/lib/python3.12/dist-packages (from transformers[sentencepiece]) (0.6.2)\n",
            "Requirement already satisfied: tqdm>=4.27 in /usr/local/lib/python3.12/dist-packages (from transformers[sentencepiece]) (4.67.1)\n",
            "Requirement already satisfied: sentencepiece!=0.1.92,>=0.1.91 in /usr/local/lib/python3.12/dist-packages (from transformers[sentencepiece]) (0.2.1)\n",
            "Requirement already satisfied: protobuf in /usr/local/lib/python3.12/dist-packages (from transformers[sentencepiece]) (5.29.5)\n",
            "Requirement already satisfied: typing-extensions>=4.10.0 in /usr/local/lib/python3.12/dist-packages (from torch) (4.15.0)\n",
            "Requirement already satisfied: setuptools in /usr/local/lib/python3.12/dist-packages (from torch) (75.2.0)\n",
            "Requirement already satisfied: sympy>=1.13.3 in /usr/local/lib/python3.12/dist-packages (from torch) (1.13.3)\n",
            "Requirement already satisfied: networkx in /usr/local/lib/python3.12/dist-packages (from torch) (3.5)\n",
            "Requirement already satisfied: jinja2 in /usr/local/lib/python3.12/dist-packages (from torch) (3.1.6)\n",
            "Requirement already satisfied: fsspec in /usr/local/lib/python3.12/dist-packages (from torch) (2025.3.0)\n",
            "Requirement already satisfied: nvidia-cuda-nvrtc-cu12==12.6.77 in /usr/local/lib/python3.12/dist-packages (from torch) (12.6.77)\n",
            "Requirement already satisfied: nvidia-cuda-runtime-cu12==12.6.77 in /usr/local/lib/python3.12/dist-packages (from torch) (12.6.77)\n",
            "Requirement already satisfied: nvidia-cuda-cupti-cu12==12.6.80 in /usr/local/lib/python3.12/dist-packages (from torch) (12.6.80)\n",
            "Requirement already satisfied: nvidia-cudnn-cu12==9.10.2.21 in /usr/local/lib/python3.12/dist-packages (from torch) (9.10.2.21)\n",
            "Requirement already satisfied: nvidia-cublas-cu12==12.6.4.1 in /usr/local/lib/python3.12/dist-packages (from torch) (12.6.4.1)\n",
            "Requirement already satisfied: nvidia-cufft-cu12==11.3.0.4 in /usr/local/lib/python3.12/dist-packages (from torch) (11.3.0.4)\n",
            "Requirement already satisfied: nvidia-curand-cu12==10.3.7.77 in /usr/local/lib/python3.12/dist-packages (from torch) (10.3.7.77)\n",
            "Requirement already satisfied: nvidia-cusolver-cu12==11.7.1.2 in /usr/local/lib/python3.12/dist-packages (from torch) (11.7.1.2)\n",
            "Requirement already satisfied: nvidia-cusparse-cu12==12.5.4.2 in /usr/local/lib/python3.12/dist-packages (from torch) (12.5.4.2)\n",
            "Requirement already satisfied: nvidia-cusparselt-cu12==0.7.1 in /usr/local/lib/python3.12/dist-packages (from torch) (0.7.1)\n",
            "Requirement already satisfied: nvidia-nccl-cu12==2.27.3 in /usr/local/lib/python3.12/dist-packages (from torch) (2.27.3)\n",
            "Requirement already satisfied: nvidia-nvtx-cu12==12.6.77 in /usr/local/lib/python3.12/dist-packages (from torch) (12.6.77)\n",
            "Requirement already satisfied: nvidia-nvjitlink-cu12==12.6.85 in /usr/local/lib/python3.12/dist-packages (from torch) (12.6.85)\n",
            "Requirement already satisfied: nvidia-cufile-cu12==1.11.1.6 in /usr/local/lib/python3.12/dist-packages (from torch) (1.11.1.6)\n",
            "Requirement already satisfied: triton==3.4.0 in /usr/local/lib/python3.12/dist-packages (from torch) (3.4.0)\n",
            "Requirement already satisfied: hf-xet<2.0.0,>=1.1.3 in /usr/local/lib/python3.12/dist-packages (from huggingface-hub<1.0,>=0.34.0->transformers[sentencepiece]) (1.1.10)\n",
            "Requirement already satisfied: mpmath<1.4,>=1.1.0 in /usr/local/lib/python3.12/dist-packages (from sympy>=1.13.3->torch) (1.3.0)\n",
            "Requirement already satisfied: MarkupSafe>=2.0 in /usr/local/lib/python3.12/dist-packages (from jinja2->torch) (3.0.2)\n",
            "Requirement already satisfied: charset_normalizer<4,>=2 in /usr/local/lib/python3.12/dist-packages (from requests->transformers[sentencepiece]) (3.4.3)\n",
            "Requirement already satisfied: idna<4,>=2.5 in /usr/local/lib/python3.12/dist-packages (from requests->transformers[sentencepiece]) (3.10)\n",
            "Requirement already satisfied: urllib3<3,>=1.21.1 in /usr/local/lib/python3.12/dist-packages (from requests->transformers[sentencepiece]) (2.5.0)\n",
            "Requirement already satisfied: certifi>=2017.4.17 in /usr/local/lib/python3.12/dist-packages (from requests->transformers[sentencepiece]) (2025.8.3)\n",
            "Requirement already satisfied: nltk in /usr/local/lib/python3.12/dist-packages (3.9.1)\n",
            "Requirement already satisfied: click in /usr/local/lib/python3.12/dist-packages (from nltk) (8.2.1)\n",
            "Requirement already satisfied: joblib in /usr/local/lib/python3.12/dist-packages (from nltk) (1.5.2)\n",
            "Requirement already satisfied: regex>=2021.8.3 in /usr/local/lib/python3.12/dist-packages (from nltk) (2024.11.6)\n",
            "Requirement already satisfied: tqdm in /usr/local/lib/python3.12/dist-packages (from nltk) (4.67.1)\n",
            "Requirement already satisfied: spacy in /usr/local/lib/python3.12/dist-packages (3.8.7)\n",
            "Requirement already satisfied: spacy-legacy<3.1.0,>=3.0.11 in /usr/local/lib/python3.12/dist-packages (from spacy) (3.0.12)\n",
            "Requirement already satisfied: spacy-loggers<2.0.0,>=1.0.0 in /usr/local/lib/python3.12/dist-packages (from spacy) (1.0.5)\n",
            "Requirement already satisfied: murmurhash<1.1.0,>=0.28.0 in /usr/local/lib/python3.12/dist-packages (from spacy) (1.0.13)\n",
            "Requirement already satisfied: cymem<2.1.0,>=2.0.2 in /usr/local/lib/python3.12/dist-packages (from spacy) (2.0.11)\n",
            "Requirement already satisfied: preshed<3.1.0,>=3.0.2 in /usr/local/lib/python3.12/dist-packages (from spacy) (3.0.10)\n",
            "Requirement already satisfied: thinc<8.4.0,>=8.3.4 in /usr/local/lib/python3.12/dist-packages (from spacy) (8.3.6)\n",
            "Requirement already satisfied: wasabi<1.2.0,>=0.9.1 in /usr/local/lib/python3.12/dist-packages (from spacy) (1.1.3)\n",
            "Requirement already satisfied: srsly<3.0.0,>=2.4.3 in /usr/local/lib/python3.12/dist-packages (from spacy) (2.5.1)\n",
            "Requirement already satisfied: catalogue<2.1.0,>=2.0.6 in /usr/local/lib/python3.12/dist-packages (from spacy) (2.0.10)\n",
            "Requirement already satisfied: weasel<0.5.0,>=0.1.0 in /usr/local/lib/python3.12/dist-packages (from spacy) (0.4.1)\n",
            "Requirement already satisfied: typer<1.0.0,>=0.3.0 in /usr/local/lib/python3.12/dist-packages (from spacy) (0.17.4)\n",
            "Requirement already satisfied: tqdm<5.0.0,>=4.38.0 in /usr/local/lib/python3.12/dist-packages (from spacy) (4.67.1)\n",
            "Requirement already satisfied: numpy>=1.19.0 in /usr/local/lib/python3.12/dist-packages (from spacy) (2.0.2)\n",
            "Requirement already satisfied: requests<3.0.0,>=2.13.0 in /usr/local/lib/python3.12/dist-packages (from spacy) (2.32.4)\n",
            "Requirement already satisfied: pydantic!=1.8,!=1.8.1,<3.0.0,>=1.7.4 in /usr/local/lib/python3.12/dist-packages (from spacy) (2.11.9)\n",
            "Requirement already satisfied: jinja2 in /usr/local/lib/python3.12/dist-packages (from spacy) (3.1.6)\n",
            "Requirement already satisfied: setuptools in /usr/local/lib/python3.12/dist-packages (from spacy) (75.2.0)\n",
            "Requirement already satisfied: packaging>=20.0 in /usr/local/lib/python3.12/dist-packages (from spacy) (25.0)\n",
            "Requirement already satisfied: langcodes<4.0.0,>=3.2.0 in /usr/local/lib/python3.12/dist-packages (from spacy) (3.5.0)\n",
            "Requirement already satisfied: language-data>=1.2 in /usr/local/lib/python3.12/dist-packages (from langcodes<4.0.0,>=3.2.0->spacy) (1.3.0)\n",
            "Requirement already satisfied: annotated-types>=0.6.0 in /usr/local/lib/python3.12/dist-packages (from pydantic!=1.8,!=1.8.1,<3.0.0,>=1.7.4->spacy) (0.7.0)\n",
            "Requirement already satisfied: pydantic-core==2.33.2 in /usr/local/lib/python3.12/dist-packages (from pydantic!=1.8,!=1.8.1,<3.0.0,>=1.7.4->spacy) (2.33.2)\n",
            "Requirement already satisfied: typing-extensions>=4.12.2 in /usr/local/lib/python3.12/dist-packages (from pydantic!=1.8,!=1.8.1,<3.0.0,>=1.7.4->spacy) (4.15.0)\n",
            "Requirement already satisfied: typing-inspection>=0.4.0 in /usr/local/lib/python3.12/dist-packages (from pydantic!=1.8,!=1.8.1,<3.0.0,>=1.7.4->spacy) (0.4.1)\n",
            "Requirement already satisfied: charset_normalizer<4,>=2 in /usr/local/lib/python3.12/dist-packages (from requests<3.0.0,>=2.13.0->spacy) (3.4.3)\n",
            "Requirement already satisfied: idna<4,>=2.5 in /usr/local/lib/python3.12/dist-packages (from requests<3.0.0,>=2.13.0->spacy) (3.10)\n",
            "Requirement already satisfied: urllib3<3,>=1.21.1 in /usr/local/lib/python3.12/dist-packages (from requests<3.0.0,>=2.13.0->spacy) (2.5.0)\n",
            "Requirement already satisfied: certifi>=2017.4.17 in /usr/local/lib/python3.12/dist-packages (from requests<3.0.0,>=2.13.0->spacy) (2025.8.3)\n",
            "Requirement already satisfied: blis<1.4.0,>=1.3.0 in /usr/local/lib/python3.12/dist-packages (from thinc<8.4.0,>=8.3.4->spacy) (1.3.0)\n",
            "Requirement already satisfied: confection<1.0.0,>=0.0.1 in /usr/local/lib/python3.12/dist-packages (from thinc<8.4.0,>=8.3.4->spacy) (0.1.5)\n",
            "Requirement already satisfied: click>=8.0.0 in /usr/local/lib/python3.12/dist-packages (from typer<1.0.0,>=0.3.0->spacy) (8.2.1)\n",
            "Requirement already satisfied: shellingham>=1.3.0 in /usr/local/lib/python3.12/dist-packages (from typer<1.0.0,>=0.3.0->spacy) (1.5.4)\n",
            "Requirement already satisfied: rich>=10.11.0 in /usr/local/lib/python3.12/dist-packages (from typer<1.0.0,>=0.3.0->spacy) (13.9.4)\n",
            "Requirement already satisfied: cloudpathlib<1.0.0,>=0.7.0 in /usr/local/lib/python3.12/dist-packages (from weasel<0.5.0,>=0.1.0->spacy) (0.22.0)\n",
            "Requirement already satisfied: smart-open<8.0.0,>=5.2.1 in /usr/local/lib/python3.12/dist-packages (from weasel<0.5.0,>=0.1.0->spacy) (7.3.1)\n",
            "Requirement already satisfied: MarkupSafe>=2.0 in /usr/local/lib/python3.12/dist-packages (from jinja2->spacy) (3.0.2)\n",
            "Requirement already satisfied: marisa-trie>=1.1.0 in /usr/local/lib/python3.12/dist-packages (from language-data>=1.2->langcodes<4.0.0,>=3.2.0->spacy) (1.3.1)\n",
            "Requirement already satisfied: markdown-it-py>=2.2.0 in /usr/local/lib/python3.12/dist-packages (from rich>=10.11.0->typer<1.0.0,>=0.3.0->spacy) (4.0.0)\n",
            "Requirement already satisfied: pygments<3.0.0,>=2.13.0 in /usr/local/lib/python3.12/dist-packages (from rich>=10.11.0->typer<1.0.0,>=0.3.0->spacy) (2.19.2)\n",
            "Requirement already satisfied: wrapt in /usr/local/lib/python3.12/dist-packages (from smart-open<8.0.0,>=5.2.1->weasel<0.5.0,>=0.1.0->spacy) (1.17.3)\n",
            "Requirement already satisfied: mdurl~=0.1 in /usr/local/lib/python3.12/dist-packages (from markdown-it-py>=2.2.0->rich>=10.11.0->typer<1.0.0,>=0.3.0->spacy) (0.1.2)\n",
            "Collecting en-core-web-sm==3.8.0\n",
            "  Downloading https://github.com/explosion/spacy-models/releases/download/en_core_web_sm-3.8.0/en_core_web_sm-3.8.0-py3-none-any.whl (12.8 MB)\n",
            "\u001b[2K     \u001b[90m━━━━━━━━━━━━━━━━━━━━━━━━━━━━━━━━━━━━━━━\u001b[0m \u001b[32m12.8/12.8 MB\u001b[0m \u001b[31m145.7 MB/s\u001b[0m eta \u001b[36m0:00:00\u001b[0m\n",
            "\u001b[?25h\u001b[38;5;2m✔ Download and installation successful\u001b[0m\n",
            "You can now load the package via spacy.load('en_core_web_sm')\n",
            "\u001b[38;5;3m⚠ Restart to reload dependencies\u001b[0m\n",
            "If you are in a Jupyter or Colab notebook, you may need to restart Python in\n",
            "order to load all the package's dependencies. You can do this by selecting the\n",
            "'Restart kernel' or 'Restart runtime' option.\n"
          ]
        },
        {
          "output_type": "stream",
          "name": "stderr",
          "text": [
            "[nltk_data] Downloading package stopwords to /root/nltk_data...\n",
            "[nltk_data]   Unzipping corpora/stopwords.zip.\n",
            "[nltk_data] Downloading package wordnet to /root/nltk_data...\n"
          ]
        },
        {
          "output_type": "execute_result",
          "data": {
            "text/plain": [
              "True"
            ]
          },
          "metadata": {},
          "execution_count": 1
        }
      ],
      "source": [
        "# 1. Install Core Data Science Libraries (Pandas, NumPy, Scikit-learn)\n",
        "!pip install pandas numpy scikit-learn\n",
        "\n",
        "# 2. Install Hugging Face Transformers and PyTorch\n",
        "# The '[sentencepiece]' is required for some tokenizers, and '[torch]' ensures PyTorch dependency.\n",
        "!pip install transformers[sentencepiece] torch\n",
        "\n",
        "# 3. Install NLTK (for Stopwords/Lemmatization)\n",
        "!pip install nltk\n",
        "\n",
        "# 4. Install spaCy (for Named Entity Recognition - NER)\n",
        "!pip install spacy\n",
        "\n",
        "# 5. Download the spaCy pre-trained model for English\n",
        "# This model includes NER capabilities and is used for location extraction.\n",
        "!python -m spacy download en_core_web_sm\n",
        "\n",
        "# Download NLTK resources (needed for stopwords, etc., which you mentioned in cleaning)\n",
        "import nltk\n",
        "nltk.download('stopwords')\n",
        "nltk.download('wordnet')"
      ]
    },
    {
      "cell_type": "code",
      "source": [
        "!pip install pandas numpy scikit-learn nltk"
      ],
      "metadata": {
        "colab": {
          "base_uri": "https://localhost:8080/"
        },
        "id": "DDnmJZ_auSgV",
        "outputId": "021f85ab-ec9a-4df7-a9dc-6720ee866f5d"
      },
      "execution_count": 1,
      "outputs": [
        {
          "output_type": "stream",
          "name": "stdout",
          "text": [
            "Requirement already satisfied: pandas in /usr/local/lib/python3.12/dist-packages (2.2.2)\n",
            "Requirement already satisfied: numpy in /usr/local/lib/python3.12/dist-packages (2.0.2)\n",
            "Requirement already satisfied: scikit-learn in /usr/local/lib/python3.12/dist-packages (1.6.1)\n",
            "Requirement already satisfied: nltk in /usr/local/lib/python3.12/dist-packages (3.9.1)\n",
            "Requirement already satisfied: python-dateutil>=2.8.2 in /usr/local/lib/python3.12/dist-packages (from pandas) (2.9.0.post0)\n",
            "Requirement already satisfied: pytz>=2020.1 in /usr/local/lib/python3.12/dist-packages (from pandas) (2025.2)\n",
            "Requirement already satisfied: tzdata>=2022.7 in /usr/local/lib/python3.12/dist-packages (from pandas) (2025.2)\n",
            "Requirement already satisfied: scipy>=1.6.0 in /usr/local/lib/python3.12/dist-packages (from scikit-learn) (1.16.2)\n",
            "Requirement already satisfied: joblib>=1.2.0 in /usr/local/lib/python3.12/dist-packages (from scikit-learn) (1.5.2)\n",
            "Requirement already satisfied: threadpoolctl>=3.1.0 in /usr/local/lib/python3.12/dist-packages (from scikit-learn) (3.6.0)\n",
            "Requirement already satisfied: click in /usr/local/lib/python3.12/dist-packages (from nltk) (8.2.1)\n",
            "Requirement already satisfied: regex>=2021.8.3 in /usr/local/lib/python3.12/dist-packages (from nltk) (2024.11.6)\n",
            "Requirement already satisfied: tqdm in /usr/local/lib/python3.12/dist-packages (from nltk) (4.67.1)\n",
            "Requirement already satisfied: six>=1.5 in /usr/local/lib/python3.12/dist-packages (from python-dateutil>=2.8.2->pandas) (1.17.0)\n"
          ]
        }
      ]
    },
    {
      "cell_type": "code",
      "source": [
        "import nltk\n",
        "nltk.download('stopwords')\n",
        "nltk.download('wordnet')"
      ],
      "metadata": {
        "colab": {
          "base_uri": "https://localhost:8080/"
        },
        "id": "sO98NDQ8ujn0",
        "outputId": "87a40c1a-418c-470a-d5c0-0efaea78183f"
      },
      "execution_count": 2,
      "outputs": [
        {
          "output_type": "stream",
          "name": "stderr",
          "text": [
            "[nltk_data] Downloading package stopwords to /root/nltk_data...\n",
            "[nltk_data]   Unzipping corpora/stopwords.zip.\n",
            "[nltk_data] Downloading package wordnet to /root/nltk_data...\n"
          ]
        },
        {
          "output_type": "execute_result",
          "data": {
            "text/plain": [
              "True"
            ]
          },
          "metadata": {},
          "execution_count": 2
        }
      ]
    },
    {
      "cell_type": "code",
      "source": [
        "import pandas as pd\n",
        "import numpy as np\n",
        "import re\n",
        "from sklearn.model_selection import train_test_split\n",
        "\n",
        "BASE_PATH = '/content/drive/MyDrive/'\n",
        "\n",
        "FILE_PATHS = {\n",
        "    'kaggle_train': BASE_PATH + 'kaggle_train.csv',\n",
        "    'kaggle_test': BASE_PATH + 'kaggle_test.csv',\n",
        "\n",
        "    'canada_wildfires': BASE_PATH + 'canada_wildfires_2016.csv',\n",
        "    'ecuador_earthquake': BASE_PATH + 'ecuador_earthquake_2016.csv',\n",
        "    'hurricane_harvey': BASE_PATH + 'hurricane_harvey_2017.csv',\n",
        "    'hurricane_irma': BASE_PATH + 'hurricane_irma_2017.csv',\n",
        "    'puebla_mexico_earthquake': BASE_PATH + 'puebla_mexico_earthquake_2017.csv',\n",
        "    'srilanka_floods': BASE_PATH + 'srilanka_floods_2017.csv',\n",
        "\n",
        "    # Eyewitness annotation datasets\n",
        "    'eyewitness_earthquake': BASE_PATH + 'earthquakes_eyewitness_annotations_2000.csv',\n",
        "    'eyewitness_floods': BASE_PATH + 'floods_eyewitness_annotations_2000.csv',\n",
        "    'eyewitness_hurricanes': BASE_PATH + 'hurricanes_eyewitness_annotations_2004.csv',\n",
        "}\n",
        "DISASTER_TYPE_MAP = {\n",
        "    'kaggle_train': 'UNKNOWN_KAGGLE',\n",
        "    'kaggle_test': 'UNKNOWN_KAGGLE',\n",
        "    'canada_wildfires': 'Wildfire',\n",
        "    'ecuador_earthquake': 'Earthquake',\n",
        "    'hurricane_harvey': 'Hurricane',\n",
        "    'hurricane_irma': 'Hurricane',\n",
        "    'puebla_mexico_earthquake': 'Earthquake',\n",
        "    'srilanka_floods': 'Flood',\n",
        "    'eyewitness_earthquake': 'Earthquake',\n",
        "    'eyewitness_floods': 'Flood',\n",
        "    'eyewitness_hurricanes': 'Hurricane',\n",
        "}"
      ],
      "metadata": {
        "id": "VVpnsmniunQN"
      },
      "execution_count": 11,
      "outputs": []
    },
    {
      "cell_type": "code",
      "source": [
        "all_labels = {}\n",
        "\n",
        "for key, path in FILE_PATHS.items():\n",
        "    try:\n",
        "        df = pd.read_csv(path, encoding='utf-8', on_bad_lines='skip')\n",
        "    except:\n",
        "        df = pd.read_csv(path, encoding='latin1', on_bad_lines='skip')\n",
        "\n",
        "    # normalize column names\n",
        "    cols = [c.strip().lower() for c in df.columns]\n",
        "\n",
        "    # look for possible label columns\n",
        "    possible_cols = [df.columns[i] for i, c in enumerate(cols)\n",
        "                     if any(x in c for x in ['label', 'class', 'target', 'lable'])]\n",
        "\n",
        "    if not possible_cols:\n",
        "        print(f\"No label column found in {key} -> columns = {df.columns.tolist()}\")\n",
        "        continue\n",
        "\n",
        "    label_col = possible_cols[0]  # pick first match\n",
        "    all_labels[key] = df[label_col].dropna().unique().tolist()\n",
        "\n",
        "    print(f\"{key}: using column '{label_col}'\")\n",
        "\n",
        "print(\"\\n=== Unique labels per dataset ===\")\n",
        "for dataset, labels in all_labels.items():\n",
        "    print(f\"{dataset}: {labels}\")"
      ],
      "metadata": {
        "colab": {
          "base_uri": "https://localhost:8080/"
        },
        "id": "cpPrlpDXwPpn",
        "outputId": "38d9eac6-d783-4fac-ad65-c3662120070a"
      },
      "execution_count": 12,
      "outputs": [
        {
          "output_type": "stream",
          "name": "stdout",
          "text": [
            "kaggle_train: using column 'target'\n",
            "No label column found in kaggle_test -> columns = ['id', 'keyword', 'location', 'text']\n",
            "canada_wildfires: using column 'class_label'\n",
            "ecuador_earthquake: using column 'class_label'\n",
            "hurricane_harvey: using column 'class_label'\n",
            "hurricane_irma: using column 'class_label'\n",
            "puebla_mexico_earthquake: using column 'class_label'\n",
            "srilanka_floods: using column 'class_label'\n",
            "eyewitness_earthquake: using column 'label'\n",
            "eyewitness_floods: using column 'lable'\n",
            "eyewitness_hurricanes: using column 'Lable'\n",
            "\n",
            "=== Unique labels per dataset ===\n",
            "kaggle_train: [1, 0]\n",
            "canada_wildfires: ['rescue_volunteering_or_donation_effort', 'sympathy_and_support', 'infrastructure_and_utility_damage', 'other_relevant_information', 'displaced_people_and_evacuations', 'not_humanitarian', 'caution_and_advice', 'requests_or_urgent_needs']\n",
            "ecuador_earthquake: ['sympathy_and_support', 'injured_or_dead_people', 'requests_or_urgent_needs', 'rescue_volunteering_or_donation_effort', 'infrastructure_and_utility_damage', 'caution_and_advice', 'other_relevant_information', 'not_humanitarian']\n",
            "hurricane_harvey: ['injured_or_dead_people', 'displaced_people_and_evacuations', 'other_relevant_information', 'not_humanitarian', 'sympathy_and_support', 'infrastructure_and_utility_damage', 'rescue_volunteering_or_donation_effort', 'caution_and_advice', 'requests_or_urgent_needs']\n",
            "hurricane_irma: ['other_relevant_information', 'infrastructure_and_utility_damage', 'rescue_volunteering_or_donation_effort', 'injured_or_dead_people', 'caution_and_advice', 'not_humanitarian', 'requests_or_urgent_needs', 'displaced_people_and_evacuations', 'sympathy_and_support']\n",
            "puebla_mexico_earthquake: ['rescue_volunteering_or_donation_effort', 'other_relevant_information', 'injured_or_dead_people', 'infrastructure_and_utility_damage', 'sympathy_and_support', 'requests_or_urgent_needs', 'caution_and_advice', 'not_humanitarian']\n",
            "srilanka_floods: ['rescue_volunteering_or_donation_effort', 'caution_and_advice', 'sympathy_and_support', 'injured_or_dead_people', 'not_humanitarian', 'other_relevant_information', 'requests_or_urgent_needs', 'infrastructure_and_utility_damage']\n",
            "eyewitness_earthquake: ['non-eyewitness', \"don't know\", 'direct-eyewitness', 'indirect-eyewitness']\n",
            "eyewitness_floods: ['direct-eyewitness', 'indirect-eyewitness', 'vulnerable direct-eyewitness', 'non-eyewitness', \"don't know\"]\n",
            "eyewitness_hurricanes: ['direct-eyewitness', 'non-eyewitness', 'indirect-eyewitness', 'vulnerable-direct witness', \"don't know\"]\n"
          ]
        }
      ]
    },
    {
      "cell_type": "code",
      "source": [
        "def binarize_label(label):\n",
        "    if isinstance(label, str):\n",
        "        label_lower = label.lower().strip()\n",
        "\n",
        "        # 0: Non-Actionable or Non-Disaster (Including Sympathy and 'Don't Know')\n",
        "        if label_lower in ['0', 'sympathy_and_support', 'not_humanitarian', 'not_relevant', 'non-eyewitness', 'non eyewitness', \"don't know\"]:\n",
        "            return 0\n",
        "\n",
        "        # 1: Disaster or Actionable Information (All other Crisis/Eyewitness labels)\n",
        "        elif label_lower in [\n",
        "            '1', 'injured_or_dead_people', 'requests_or_urgent_needs',\n",
        "            'rescue_volunteering_or_donation_effort', 'infrastructure_and_utility_damage',\n",
        "            'displaced_people_and_evacuations', 'caution_and_advice',\n",
        "            'other_relevant_information', 'direct-eyewitness',\n",
        "            'indirect-eyewitness', 'vulnerable direct-eyewitness', 'vulnerable-direct witness'\n",
        "            ]:\n",
        "            return 1\n",
        "        else:\n",
        "            return np.nan # Catch any unexpected labels\n",
        "\n",
        "    elif pd.isna(label):\n",
        "        return np.nan # Catch NaNs\n",
        "\n",
        "    else:\n",
        "        return int(label) # Handles Kaggle's pre-existing integer 0 or 1 labels"
      ],
      "metadata": {
        "id": "l3yEOuCZyb72"
      },
      "execution_count": 13,
      "outputs": []
    },
    {
      "cell_type": "code",
      "source": [
        "all_data_frames = []\n",
        "\n",
        "for key, path in FILE_PATHS.items():\n",
        "    try:\n",
        "        # Load file with robust encoding\n",
        "        df = pd.read_csv(path, encoding='latin1', on_bad_lines='skip')\n",
        "\n",
        "        # --- Standardize Columns ---\n",
        "        col_map = {}\n",
        "        for col in df.columns:\n",
        "            col_lower = col.lower().strip()\n",
        "            # Rename the messy columns to your standard column names\n",
        "            if col_lower == 'target': col_map[col] = 'is_disaster'\n",
        "            elif col_lower in ['class_label', 'label', 'lable']: col_map[col] = 'sub_category'\n",
        "            elif col_lower == 'tweet_text': col_map[col] = 'text'\n",
        "            elif col_lower == 'location': col_map[col] = 'location_raw'\n",
        "            elif col_lower in ['tweet_id', 'id']: col_map[col] = 'id'\n",
        "\n",
        "        df.rename(columns=col_map, inplace=True)\n",
        "\n",
        "        # --- Add/Clean Required Columns ---\n",
        "\n",
        "        # 1. Handle Unlabeled Kaggle Test Data (CRITICAL)\n",
        "        if key == 'kaggle_test':\n",
        "            df['is_disaster'] = np.nan\n",
        "            df['sub_category'] = None\n",
        "\n",
        "        # 2. Add 'is_disaster' for files missing it (applying the refined binarization)\n",
        "        if 'is_disaster' not in df.columns:\n",
        "            df['is_disaster'] = df.get('sub_category', pd.Series([np.nan] * len(df))).apply(binarize_label)\n",
        "\n",
        "        # 3. Add 'disaster_type' column using the map\n",
        "        df['disaster_type'] = DISASTER_TYPE_MAP.get(key, 'UNKNOWN_TYPE')\n",
        "\n",
        "        # 4. Ensure all final columns exist, adding None/NaN if originally missing\n",
        "        FINAL_COLS = ['id', 'text', 'location_raw', 'is_disaster', 'sub_category', 'disaster_type']\n",
        "        for col in FINAL_COLS:\n",
        "            if col not in df.columns:\n",
        "                 df[col] = None\n",
        "\n",
        "        # Drop rows where 'text' is missing, as we cannot classify them\n",
        "        df.dropna(subset=['text'], inplace=True)\n",
        "\n",
        "        all_data_frames.append(df[FINAL_COLS])\n",
        "\n",
        "    except Exception as e:\n",
        "        print(f\"An error occurred processing {key}: {e}\")\n",
        "\n",
        "# Final Merge\n",
        "master_df = pd.concat(all_data_frames, ignore_index=True)\n",
        "\n",
        "print(f\"\\nAll data merged successfully. Total rows: {len(master_df)}\")\n",
        "print(f\"Columns: {master_df.columns.tolist()}\")\n",
        "print(f\"Rows with missing 'is_disaster' label (Kaggle Test): {master_df['is_disaster'].isna().sum()}\")\n"
      ],
      "metadata": {
        "colab": {
          "base_uri": "https://localhost:8080/"
        },
        "id": "GueGBXrQydma",
        "outputId": "47d47ee6-a6c9-4abe-badc-31a7ec2d97e1"
      },
      "execution_count": 14,
      "outputs": [
        {
          "output_type": "stream",
          "name": "stdout",
          "text": [
            "\n",
            "All data merged successfully. Total rows: 41766\n",
            "Columns: ['id', 'text', 'location_raw', 'is_disaster', 'sub_category', 'disaster_type']\n",
            "Rows with missing 'is_disaster' label (Kaggle Test): 3263\n"
          ]
        },
        {
          "output_type": "stream",
          "name": "stderr",
          "text": [
            "/tmp/ipython-input-2767202372.py:50: FutureWarning: The behavior of DataFrame concatenation with empty or all-NA entries is deprecated. In a future version, this will no longer exclude empty or all-NA columns when determining the result dtypes. To retain the old behavior, exclude the relevant entries before the concat operation.\n",
            "  master_df = pd.concat(all_data_frames, ignore_index=True)\n"
          ]
        }
      ]
    },
    {
      "cell_type": "code",
      "source": [
        "import re\n",
        "from sklearn.model_selection import train_test_split\n",
        "import pandas as pd\n",
        "import numpy as np\n",
        "\n",
        "# Define the cleaning function (applied uniformly to all text)\n",
        "def clean_text_global(text):\n",
        "    text = str(text).lower()\n",
        "    text = re.sub(r'https?://\\S+|www\\.\\S+', '', text)    # Remove URLs\n",
        "    text = re.sub(r'@\\w+', '', text)                     # Remove mentions\n",
        "    text = re.sub(r'#', '', text)                        # Remove hashtag symbol\n",
        "    text = re.sub(r'[^a-z0-9\\s]', '', text)              # Remove punctuation/special chars\n",
        "    return text\n",
        "\n",
        "# Apply the cleaning function\n",
        "master_df['text_cleaned'] = master_df['text'].apply(clean_text_global)\n",
        "print(\"Text cleaning applied to all rows.\")"
      ],
      "metadata": {
        "colab": {
          "base_uri": "https://localhost:8080/"
        },
        "id": "WzNCx3zN0lCO",
        "outputId": "6ea5d31e-deee-439c-c8a3-61fb574e18c4"
      },
      "execution_count": 15,
      "outputs": [
        {
          "output_type": "stream",
          "name": "stdout",
          "text": [
            "Text cleaning applied to all rows.\n"
          ]
        }
      ]
    },
    {
      "cell_type": "code",
      "source": [
        "import nltk\n",
        "from nltk.corpus import stopwords\n",
        "from nltk.stem import WordNetLemmatizer\n",
        "\n",
        "nltk.download('stopwords')\n",
        "nltk.download('wordnet')\n",
        "\n",
        "stop_words = set(stopwords.words('english'))\n",
        "lemmatizer = WordNetLemmatizer()\n",
        "\n",
        "def clean_text_traditional(text):\n",
        "    text = clean_text_global(text)  # start with the basic cleaning\n",
        "    tokens = text.split()\n",
        "    tokens = [lemmatizer.lemmatize(word) for word in tokens if word not in stop_words]\n",
        "    return \" \".join(tokens)\n",
        "\n",
        "master_df['text_cleaned_traditional'] = master_df['text_cleaned'].apply(clean_text_traditional)  # for Logistic Regression"
      ],
      "metadata": {
        "colab": {
          "base_uri": "https://localhost:8080/"
        },
        "id": "OUK2Sb3W--8N",
        "outputId": "56671449-7db4-4ff6-d73f-314af955f214"
      },
      "execution_count": 26,
      "outputs": [
        {
          "output_type": "stream",
          "name": "stderr",
          "text": [
            "[nltk_data] Downloading package stopwords to /root/nltk_data...\n",
            "[nltk_data]   Package stopwords is already up-to-date!\n",
            "[nltk_data] Downloading package wordnet to /root/nltk_data...\n",
            "[nltk_data]   Package wordnet is already up-to-date!\n"
          ]
        }
      ]
    },
    {
      "cell_type": "code",
      "source": [
        "print(\"\\n--- Checking a Random Sample Row ---\")\n",
        "random_check = master_df[['text', 'text_cleaned', 'is_disaster']].sample(n=1)\n",
        "print(random_check.to_markdown(index=False))"
      ],
      "metadata": {
        "colab": {
          "base_uri": "https://localhost:8080/"
        },
        "id": "ali8-VIF0zM3",
        "outputId": "8c1a7344-2dd9-47be-bac4-07fefaba4659"
      },
      "execution_count": 27,
      "outputs": [
        {
          "output_type": "stream",
          "name": "stdout",
          "text": [
            "\n",
            "--- Checking a Random Sample Row ---\n",
            "| text                                                                                                     | text_cleaned                                                                            |   is_disaster |\n",
            "|:---------------------------------------------------------------------------------------------------------|:----------------------------------------------------------------------------------------|--------------:|\n",
            "| Lawmakers are already calling for TPS for victims of #hurricaneirma in the Caribbean via @alextdaugherty | lawmakers are already calling for tps for victims of hurricaneirma in the caribbean via |             1 |\n"
          ]
        }
      ]
    },
    {
      "cell_type": "code",
      "source": [
        "print(\"\\n--- Checking the First 5 Rows ---\")\n",
        "first_five = master_df[['text', 'text_cleaned','is_disaster']].head(5)\n",
        "print(first_five.to_markdown(index=False))"
      ],
      "metadata": {
        "colab": {
          "base_uri": "https://localhost:8080/"
        },
        "id": "ARyP9Dq71NQr",
        "outputId": "a6905ff4-1207-459e-a322-5ff8cb0ba9fb"
      },
      "execution_count": 28,
      "outputs": [
        {
          "output_type": "stream",
          "name": "stdout",
          "text": [
            "\n",
            "--- Checking the First 5 Rows ---\n",
            "| text                                                                                                                                  | text_cleaned                                                                                                                       |   is_disaster |\n",
            "|:--------------------------------------------------------------------------------------------------------------------------------------|:-----------------------------------------------------------------------------------------------------------------------------------|--------------:|\n",
            "| Our Deeds are the Reason of this #earthquake May ALLAH Forgive us all                                                                 | our deeds are the reason of this earthquake may allah forgive us all                                                               |             1 |\n",
            "| Forest fire near La Ronge Sask. Canada                                                                                                | forest fire near la ronge sask canada                                                                                              |             1 |\n",
            "| All residents asked to 'shelter in place' are being notified by officers. No other evacuation or shelter in place orders are expected | all residents asked to shelter in place are being notified by officers no other evacuation or shelter in place orders are expected |             1 |\n",
            "| 13,000 people receive #wildfires evacuation orders in California                                                                      | 13000 people receive wildfires evacuation orders in california                                                                     |             1 |\n",
            "| Just got sent this photo from Ruby #Alaska as smoke from #wildfires pours into a school                                               | just got sent this photo from ruby alaska as smoke from wildfires pours into a school                                              |             1 |\n"
          ]
        }
      ]
    },
    {
      "cell_type": "code",
      "source": [
        "master_df.head()"
      ],
      "metadata": {
        "colab": {
          "base_uri": "https://localhost:8080/",
          "height": 276
        },
        "id": "QADFWY2lABbh",
        "outputId": "0b4217aa-57ac-4c25-95ea-02a585b3354e"
      },
      "execution_count": 29,
      "outputs": [
        {
          "output_type": "execute_result",
          "data": {
            "text/plain": [
              "    id                                               text location_raw  \\\n",
              "0  1.0  Our Deeds are the Reason of this #earthquake M...          NaN   \n",
              "1  4.0             Forest fire near La Ronge Sask. Canada          NaN   \n",
              "2  5.0  All residents asked to 'shelter in place' are ...          NaN   \n",
              "3  6.0  13,000 people receive #wildfires evacuation or...          NaN   \n",
              "4  7.0  Just got sent this photo from Ruby #Alaska as ...          NaN   \n",
              "\n",
              "   is_disaster sub_category   disaster_type  \\\n",
              "0          1.0         None  UNKNOWN_KAGGLE   \n",
              "1          1.0         None  UNKNOWN_KAGGLE   \n",
              "2          1.0         None  UNKNOWN_KAGGLE   \n",
              "3          1.0         None  UNKNOWN_KAGGLE   \n",
              "4          1.0         None  UNKNOWN_KAGGLE   \n",
              "\n",
              "                                        text_cleaned  \\\n",
              "0  our deeds are the reason of this earthquake ma...   \n",
              "1              forest fire near la ronge sask canada   \n",
              "2  all residents asked to shelter in place are be...   \n",
              "3  13000 people receive wildfires evacuation orde...   \n",
              "4  just got sent this photo from ruby alaska as s...   \n",
              "\n",
              "                            text_cleaned_traditional  \n",
              "0         deed reason earthquake may allah forgive u  \n",
              "1              forest fire near la ronge sask canada  \n",
              "2  resident asked shelter place notified officer ...  \n",
              "3  13000 people receive wildfire evacuation order...  \n",
              "4  got sent photo ruby alaska smoke wildfire pour...  "
            ],
            "text/html": [
              "\n",
              "  <div id=\"df-76875f27-05f4-478c-80c7-c1ec616e6b96\" class=\"colab-df-container\">\n",
              "    <div>\n",
              "<style scoped>\n",
              "    .dataframe tbody tr th:only-of-type {\n",
              "        vertical-align: middle;\n",
              "    }\n",
              "\n",
              "    .dataframe tbody tr th {\n",
              "        vertical-align: top;\n",
              "    }\n",
              "\n",
              "    .dataframe thead th {\n",
              "        text-align: right;\n",
              "    }\n",
              "</style>\n",
              "<table border=\"1\" class=\"dataframe\">\n",
              "  <thead>\n",
              "    <tr style=\"text-align: right;\">\n",
              "      <th></th>\n",
              "      <th>id</th>\n",
              "      <th>text</th>\n",
              "      <th>location_raw</th>\n",
              "      <th>is_disaster</th>\n",
              "      <th>sub_category</th>\n",
              "      <th>disaster_type</th>\n",
              "      <th>text_cleaned</th>\n",
              "      <th>text_cleaned_traditional</th>\n",
              "    </tr>\n",
              "  </thead>\n",
              "  <tbody>\n",
              "    <tr>\n",
              "      <th>0</th>\n",
              "      <td>1.0</td>\n",
              "      <td>Our Deeds are the Reason of this #earthquake M...</td>\n",
              "      <td>NaN</td>\n",
              "      <td>1.0</td>\n",
              "      <td>None</td>\n",
              "      <td>UNKNOWN_KAGGLE</td>\n",
              "      <td>our deeds are the reason of this earthquake ma...</td>\n",
              "      <td>deed reason earthquake may allah forgive u</td>\n",
              "    </tr>\n",
              "    <tr>\n",
              "      <th>1</th>\n",
              "      <td>4.0</td>\n",
              "      <td>Forest fire near La Ronge Sask. Canada</td>\n",
              "      <td>NaN</td>\n",
              "      <td>1.0</td>\n",
              "      <td>None</td>\n",
              "      <td>UNKNOWN_KAGGLE</td>\n",
              "      <td>forest fire near la ronge sask canada</td>\n",
              "      <td>forest fire near la ronge sask canada</td>\n",
              "    </tr>\n",
              "    <tr>\n",
              "      <th>2</th>\n",
              "      <td>5.0</td>\n",
              "      <td>All residents asked to 'shelter in place' are ...</td>\n",
              "      <td>NaN</td>\n",
              "      <td>1.0</td>\n",
              "      <td>None</td>\n",
              "      <td>UNKNOWN_KAGGLE</td>\n",
              "      <td>all residents asked to shelter in place are be...</td>\n",
              "      <td>resident asked shelter place notified officer ...</td>\n",
              "    </tr>\n",
              "    <tr>\n",
              "      <th>3</th>\n",
              "      <td>6.0</td>\n",
              "      <td>13,000 people receive #wildfires evacuation or...</td>\n",
              "      <td>NaN</td>\n",
              "      <td>1.0</td>\n",
              "      <td>None</td>\n",
              "      <td>UNKNOWN_KAGGLE</td>\n",
              "      <td>13000 people receive wildfires evacuation orde...</td>\n",
              "      <td>13000 people receive wildfire evacuation order...</td>\n",
              "    </tr>\n",
              "    <tr>\n",
              "      <th>4</th>\n",
              "      <td>7.0</td>\n",
              "      <td>Just got sent this photo from Ruby #Alaska as ...</td>\n",
              "      <td>NaN</td>\n",
              "      <td>1.0</td>\n",
              "      <td>None</td>\n",
              "      <td>UNKNOWN_KAGGLE</td>\n",
              "      <td>just got sent this photo from ruby alaska as s...</td>\n",
              "      <td>got sent photo ruby alaska smoke wildfire pour...</td>\n",
              "    </tr>\n",
              "  </tbody>\n",
              "</table>\n",
              "</div>\n",
              "    <div class=\"colab-df-buttons\">\n",
              "\n",
              "  <div class=\"colab-df-container\">\n",
              "    <button class=\"colab-df-convert\" onclick=\"convertToInteractive('df-76875f27-05f4-478c-80c7-c1ec616e6b96')\"\n",
              "            title=\"Convert this dataframe to an interactive table.\"\n",
              "            style=\"display:none;\">\n",
              "\n",
              "  <svg xmlns=\"http://www.w3.org/2000/svg\" height=\"24px\" viewBox=\"0 -960 960 960\">\n",
              "    <path d=\"M120-120v-720h720v720H120Zm60-500h600v-160H180v160Zm220 220h160v-160H400v160Zm0 220h160v-160H400v160ZM180-400h160v-160H180v160Zm440 0h160v-160H620v160ZM180-180h160v-160H180v160Zm440 0h160v-160H620v160Z\"/>\n",
              "  </svg>\n",
              "    </button>\n",
              "\n",
              "  <style>\n",
              "    .colab-df-container {\n",
              "      display:flex;\n",
              "      gap: 12px;\n",
              "    }\n",
              "\n",
              "    .colab-df-convert {\n",
              "      background-color: #E8F0FE;\n",
              "      border: none;\n",
              "      border-radius: 50%;\n",
              "      cursor: pointer;\n",
              "      display: none;\n",
              "      fill: #1967D2;\n",
              "      height: 32px;\n",
              "      padding: 0 0 0 0;\n",
              "      width: 32px;\n",
              "    }\n",
              "\n",
              "    .colab-df-convert:hover {\n",
              "      background-color: #E2EBFA;\n",
              "      box-shadow: 0px 1px 2px rgba(60, 64, 67, 0.3), 0px 1px 3px 1px rgba(60, 64, 67, 0.15);\n",
              "      fill: #174EA6;\n",
              "    }\n",
              "\n",
              "    .colab-df-buttons div {\n",
              "      margin-bottom: 4px;\n",
              "    }\n",
              "\n",
              "    [theme=dark] .colab-df-convert {\n",
              "      background-color: #3B4455;\n",
              "      fill: #D2E3FC;\n",
              "    }\n",
              "\n",
              "    [theme=dark] .colab-df-convert:hover {\n",
              "      background-color: #434B5C;\n",
              "      box-shadow: 0px 1px 3px 1px rgba(0, 0, 0, 0.15);\n",
              "      filter: drop-shadow(0px 1px 2px rgba(0, 0, 0, 0.3));\n",
              "      fill: #FFFFFF;\n",
              "    }\n",
              "  </style>\n",
              "\n",
              "    <script>\n",
              "      const buttonEl =\n",
              "        document.querySelector('#df-76875f27-05f4-478c-80c7-c1ec616e6b96 button.colab-df-convert');\n",
              "      buttonEl.style.display =\n",
              "        google.colab.kernel.accessAllowed ? 'block' : 'none';\n",
              "\n",
              "      async function convertToInteractive(key) {\n",
              "        const element = document.querySelector('#df-76875f27-05f4-478c-80c7-c1ec616e6b96');\n",
              "        const dataTable =\n",
              "          await google.colab.kernel.invokeFunction('convertToInteractive',\n",
              "                                                    [key], {});\n",
              "        if (!dataTable) return;\n",
              "\n",
              "        const docLinkHtml = 'Like what you see? Visit the ' +\n",
              "          '<a target=\"_blank\" href=https://colab.research.google.com/notebooks/data_table.ipynb>data table notebook</a>'\n",
              "          + ' to learn more about interactive tables.';\n",
              "        element.innerHTML = '';\n",
              "        dataTable['output_type'] = 'display_data';\n",
              "        await google.colab.output.renderOutput(dataTable, element);\n",
              "        const docLink = document.createElement('div');\n",
              "        docLink.innerHTML = docLinkHtml;\n",
              "        element.appendChild(docLink);\n",
              "      }\n",
              "    </script>\n",
              "  </div>\n",
              "\n",
              "\n",
              "    <div id=\"df-f097cd16-6280-49b4-a2f1-4c2d53cfc55c\">\n",
              "      <button class=\"colab-df-quickchart\" onclick=\"quickchart('df-f097cd16-6280-49b4-a2f1-4c2d53cfc55c')\"\n",
              "                title=\"Suggest charts\"\n",
              "                style=\"display:none;\">\n",
              "\n",
              "<svg xmlns=\"http://www.w3.org/2000/svg\" height=\"24px\"viewBox=\"0 0 24 24\"\n",
              "     width=\"24px\">\n",
              "    <g>\n",
              "        <path d=\"M19 3H5c-1.1 0-2 .9-2 2v14c0 1.1.9 2 2 2h14c1.1 0 2-.9 2-2V5c0-1.1-.9-2-2-2zM9 17H7v-7h2v7zm4 0h-2V7h2v10zm4 0h-2v-4h2v4z\"/>\n",
              "    </g>\n",
              "</svg>\n",
              "      </button>\n",
              "\n",
              "<style>\n",
              "  .colab-df-quickchart {\n",
              "      --bg-color: #E8F0FE;\n",
              "      --fill-color: #1967D2;\n",
              "      --hover-bg-color: #E2EBFA;\n",
              "      --hover-fill-color: #174EA6;\n",
              "      --disabled-fill-color: #AAA;\n",
              "      --disabled-bg-color: #DDD;\n",
              "  }\n",
              "\n",
              "  [theme=dark] .colab-df-quickchart {\n",
              "      --bg-color: #3B4455;\n",
              "      --fill-color: #D2E3FC;\n",
              "      --hover-bg-color: #434B5C;\n",
              "      --hover-fill-color: #FFFFFF;\n",
              "      --disabled-bg-color: #3B4455;\n",
              "      --disabled-fill-color: #666;\n",
              "  }\n",
              "\n",
              "  .colab-df-quickchart {\n",
              "    background-color: var(--bg-color);\n",
              "    border: none;\n",
              "    border-radius: 50%;\n",
              "    cursor: pointer;\n",
              "    display: none;\n",
              "    fill: var(--fill-color);\n",
              "    height: 32px;\n",
              "    padding: 0;\n",
              "    width: 32px;\n",
              "  }\n",
              "\n",
              "  .colab-df-quickchart:hover {\n",
              "    background-color: var(--hover-bg-color);\n",
              "    box-shadow: 0 1px 2px rgba(60, 64, 67, 0.3), 0 1px 3px 1px rgba(60, 64, 67, 0.15);\n",
              "    fill: var(--button-hover-fill-color);\n",
              "  }\n",
              "\n",
              "  .colab-df-quickchart-complete:disabled,\n",
              "  .colab-df-quickchart-complete:disabled:hover {\n",
              "    background-color: var(--disabled-bg-color);\n",
              "    fill: var(--disabled-fill-color);\n",
              "    box-shadow: none;\n",
              "  }\n",
              "\n",
              "  .colab-df-spinner {\n",
              "    border: 2px solid var(--fill-color);\n",
              "    border-color: transparent;\n",
              "    border-bottom-color: var(--fill-color);\n",
              "    animation:\n",
              "      spin 1s steps(1) infinite;\n",
              "  }\n",
              "\n",
              "  @keyframes spin {\n",
              "    0% {\n",
              "      border-color: transparent;\n",
              "      border-bottom-color: var(--fill-color);\n",
              "      border-left-color: var(--fill-color);\n",
              "    }\n",
              "    20% {\n",
              "      border-color: transparent;\n",
              "      border-left-color: var(--fill-color);\n",
              "      border-top-color: var(--fill-color);\n",
              "    }\n",
              "    30% {\n",
              "      border-color: transparent;\n",
              "      border-left-color: var(--fill-color);\n",
              "      border-top-color: var(--fill-color);\n",
              "      border-right-color: var(--fill-color);\n",
              "    }\n",
              "    40% {\n",
              "      border-color: transparent;\n",
              "      border-right-color: var(--fill-color);\n",
              "      border-top-color: var(--fill-color);\n",
              "    }\n",
              "    60% {\n",
              "      border-color: transparent;\n",
              "      border-right-color: var(--fill-color);\n",
              "    }\n",
              "    80% {\n",
              "      border-color: transparent;\n",
              "      border-right-color: var(--fill-color);\n",
              "      border-bottom-color: var(--fill-color);\n",
              "    }\n",
              "    90% {\n",
              "      border-color: transparent;\n",
              "      border-bottom-color: var(--fill-color);\n",
              "    }\n",
              "  }\n",
              "</style>\n",
              "\n",
              "      <script>\n",
              "        async function quickchart(key) {\n",
              "          const quickchartButtonEl =\n",
              "            document.querySelector('#' + key + ' button');\n",
              "          quickchartButtonEl.disabled = true;  // To prevent multiple clicks.\n",
              "          quickchartButtonEl.classList.add('colab-df-spinner');\n",
              "          try {\n",
              "            const charts = await google.colab.kernel.invokeFunction(\n",
              "                'suggestCharts', [key], {});\n",
              "          } catch (error) {\n",
              "            console.error('Error during call to suggestCharts:', error);\n",
              "          }\n",
              "          quickchartButtonEl.classList.remove('colab-df-spinner');\n",
              "          quickchartButtonEl.classList.add('colab-df-quickchart-complete');\n",
              "        }\n",
              "        (() => {\n",
              "          let quickchartButtonEl =\n",
              "            document.querySelector('#df-f097cd16-6280-49b4-a2f1-4c2d53cfc55c button');\n",
              "          quickchartButtonEl.style.display =\n",
              "            google.colab.kernel.accessAllowed ? 'block' : 'none';\n",
              "        })();\n",
              "      </script>\n",
              "    </div>\n",
              "\n",
              "    </div>\n",
              "  </div>\n"
            ],
            "application/vnd.google.colaboratory.intrinsic+json": {
              "type": "dataframe",
              "variable_name": "master_df",
              "summary": "{\n  \"name\": \"master_df\",\n  \"rows\": 41766,\n  \"fields\": [\n    {\n      \"column\": \"id\",\n      \"properties\": {\n        \"dtype\": \"number\",\n        \"std\": 4.07359748379498e+17,\n        \"min\": 0.0,\n        \"max\": 9.16205e+17,\n        \"num_unique_values\": 16806,\n        \"samples\": [\n          4104.0,\n          6253.0,\n          255.0\n        ],\n        \"semantic_type\": \"\",\n        \"description\": \"\"\n      }\n    },\n    {\n      \"column\": \"text\",\n      \"properties\": {\n        \"dtype\": \"string\",\n        \"num_unique_values\": 41447,\n        \"samples\": [\n          \"VIDEO: 'We're picking up bodies from water' - Rescuers are searching for hundreds of migrants in the Mediterranean... http://t.co/yhQU5UV6Ok\",\n          \"Red Cross emergency checklists. \\u00c3\\u00a2\",\n          \"#CROSSNET is now available for pre-order at ! 10% of all proceeds will be donated to the Hurricane Irma relief fund.\"\n        ],\n        \"semantic_type\": \"\",\n        \"description\": \"\"\n      }\n    },\n    {\n      \"column\": \"location_raw\",\n      \"properties\": {\n        \"dtype\": \"category\",\n        \"num_unique_values\": 6740,\n        \"samples\": [\n          \"Bleak House\",\n          \"Wayne, NJ\",\n          \"Sherman ave South Bronx #STF\"\n        ],\n        \"semantic_type\": \"\",\n        \"description\": \"\"\n      }\n    },\n    {\n      \"column\": \"is_disaster\",\n      \"properties\": {\n        \"dtype\": \"number\",\n        \"std\": 0.47111289620693086,\n        \"min\": 0.0,\n        \"max\": 1.0,\n        \"num_unique_values\": 2,\n        \"samples\": [\n          0.0,\n          1.0\n        ],\n        \"semantic_type\": \"\",\n        \"description\": \"\"\n      }\n    },\n    {\n      \"column\": \"sub_category\",\n      \"properties\": {\n        \"dtype\": \"category\",\n        \"num_unique_values\": 15,\n        \"samples\": [\n          \"non-eyewitness\",\n          \"direct-eyewitness\"\n        ],\n        \"semantic_type\": \"\",\n        \"description\": \"\"\n      }\n    },\n    {\n      \"column\": \"disaster_type\",\n      \"properties\": {\n        \"dtype\": \"category\",\n        \"num_unique_values\": 5,\n        \"samples\": [\n          \"Wildfire\",\n          \"Flood\"\n        ],\n        \"semantic_type\": \"\",\n        \"description\": \"\"\n      }\n    },\n    {\n      \"column\": \"text_cleaned\",\n      \"properties\": {\n        \"dtype\": \"string\",\n        \"num_unique_values\": 40337,\n        \"samples\": [\n          \"            donations are being accepted by the  for all the poor pets who need food amp shelt\",\n          \"sing tsunami beginners computer tutorial  everyone wants to learn to build a pc re \"\n        ],\n        \"semantic_type\": \"\",\n        \"description\": \"\"\n      }\n    },\n    {\n      \"column\": \"text_cleaned_traditional\",\n      \"properties\": {\n        \"dtype\": \"string\",\n        \"num_unique_values\": 40108,\n        \"samples\": [\n          \"fall leaf poplar fully ordained tumbling avalanche spurgeon\",\n          \"local collection 750 case irma victim help buffalo buffaloblog totallybuffalo\"\n        ],\n        \"semantic_type\": \"\",\n        \"description\": \"\"\n      }\n    }\n  ]\n}"
            }
          },
          "metadata": {},
          "execution_count": 29
        }
      ]
    },
    {
      "cell_type": "code",
      "source": [
        "kaggle_test_final_cleaned = master_df[master_df['is_disaster'].isna()].copy()\n",
        "kaggle_test_final_cleaned.drop(columns=['is_disaster', 'sub_category'], inplace=True)\n",
        "\n",
        "# B. Training Pool (labeled only)\n",
        "final_train_pool = master_df[master_df['is_disaster'].notna()].copy()\n",
        "\n",
        "print(f\"Kaggle Test Set size (Unlabeled, set aside): {len(kaggle_test_final_cleaned)}\")\n",
        "print(f\"Labeled Training Pool size (For training/validation): {len(final_train_pool)}\")"
      ],
      "metadata": {
        "colab": {
          "base_uri": "https://localhost:8080/"
        },
        "id": "xCCnmRG619K6",
        "outputId": "7c59f4fa-6951-4ef3-f41e-247d2e1f742c"
      },
      "execution_count": 30,
      "outputs": [
        {
          "output_type": "stream",
          "name": "stdout",
          "text": [
            "Kaggle Test Set size (Unlabeled, set aside): 3263\n",
            "Labeled Training Pool size (For training/validation): 38503\n"
          ]
        }
      ]
    },
    {
      "cell_type": "code",
      "source": [
        "binary_data_bert = final_train_pool[['text_cleaned', 'is_disaster']].dropna()\n",
        "binary_data_bert['is_disaster'] = binary_data_bert['is_disaster'].astype(int)\n",
        "\n",
        "binary_data_trad = final_train_pool[['text_cleaned_traditional', 'is_disaster']].dropna()\n",
        "binary_data_trad['is_disaster'] = binary_data_trad['is_disaster'].astype(int)\n",
        "\n",
        "# Split once (using BERT data indices) to keep consistency\n",
        "X_bin_train, X_bin_val, y_bin_train, y_bin_val = train_test_split(\n",
        "    binary_data_bert['text_cleaned'],\n",
        "    binary_data_bert['is_disaster'],\n",
        "    test_size=0.2,\n",
        "    random_state=42,\n",
        "    stratify=binary_data_bert['is_disaster']\n",
        ")\n",
        "\n",
        "# Map the same indices for Logistic Regression\n",
        "X_bin_train_trad = binary_data_trad.loc[X_bin_train.index, 'text_cleaned_traditional']\n",
        "X_bin_val_trad   = binary_data_trad.loc[X_bin_val.index, 'text_cleaned_traditional']\n",
        "\n",
        "print(\"\\nBinary Model Split Complete.\")\n",
        "print(f\"   Binary Train Size: {len(X_bin_train)} | Binary Validation Size: {len(X_bin_val)}\")"
      ],
      "metadata": {
        "colab": {
          "base_uri": "https://localhost:8080/"
        },
        "id": "2hvCdiAH3lx9",
        "outputId": "ea2d5ebe-2af3-45c8-cef9-e7c84df58648"
      },
      "execution_count": 31,
      "outputs": [
        {
          "output_type": "stream",
          "name": "stdout",
          "text": [
            "\n",
            "Binary Model Split Complete.\n",
            "   Binary Train Size: 30802 | Binary Validation Size: 7701\n"
          ]
        }
      ]
    },
    {
      "cell_type": "code",
      "source": [
        "# Filter only for rows that have a valid sub_category (Disaster rows only)\n",
        "multi_data = final_train_pool[final_train_pool['sub_category'].notna()].copy()\n",
        "multi_data = multi_data[multi_data['sub_category'] != 'Binary_Classification_Source'].copy()\n",
        "\n",
        "X_multi_train, X_multi_val, y_multi_train, y_multi_val = train_test_split(\n",
        "    multi_data['text_cleaned'],\n",
        "    multi_data['sub_category'],\n",
        "    test_size=0.2,\n",
        "    random_state=42,\n",
        "    stratify=multi_data['sub_category']\n",
        ")\n",
        "\n",
        "print(\"✅ Multi-Class Model Split Complete.\")\n",
        "print(f\"   Multi-Class Train Size: {len(X_multi_train)} | Multi-Class Validation Size: {len(X_multi_val)}\")"
      ],
      "metadata": {
        "colab": {
          "base_uri": "https://localhost:8080/"
        },
        "id": "QvsrZpBV22MS",
        "outputId": "ea829e88-516c-4822-d2a2-012300619de4"
      },
      "execution_count": 32,
      "outputs": [
        {
          "output_type": "stream",
          "name": "stdout",
          "text": [
            "✅ Multi-Class Model Split Complete.\n",
            "   Multi-Class Train Size: 24712 | Multi-Class Validation Size: 6178\n"
          ]
        }
      ]
    },
    {
      "cell_type": "code",
      "source": [
        "OUTPUT_DIR = '/content/drive/MyDrive/Disaster_Analyzer_Data/'\n",
        "if not os.path.exists(OUTPUT_DIR):\n",
        "    os.makedirs(OUTPUT_DIR)\n",
        "\n",
        "# Binary - BERT\n",
        "X_bin_train.to_csv(OUTPUT_DIR + 'X_bin_train.csv', index=True, header=True)\n",
        "y_bin_train.to_csv(OUTPUT_DIR + 'y_bin_train.csv', index=True, header=True)\n",
        "X_bin_val.to_csv(OUTPUT_DIR + 'X_bin_val.csv', index=True, header=True)\n",
        "y_bin_val.to_csv(OUTPUT_DIR + 'y_bin_val.csv', index=True, header=True)\n",
        "\n",
        "# Binary - Logistic Regression\n",
        "X_bin_train_trad.to_csv(OUTPUT_DIR + 'X_bin_train_traditional.csv', index=True, header=True)\n",
        "X_bin_val_trad.to_csv(OUTPUT_DIR + 'X_bin_val_traditional.csv', index=True, header=True)\n",
        "\n",
        "# Multi-Class\n",
        "X_multi_train.to_csv(OUTPUT_DIR + 'X_multi_train.csv', index=True, header=True)\n",
        "y_multi_train.to_csv(OUTPUT_DIR + 'y_multi_train.csv', index=True, header=True)\n",
        "X_multi_val.to_csv(OUTPUT_DIR + 'X_multi_val.csv', index=True, header=True)\n",
        "y_multi_val.to_csv(OUTPUT_DIR + 'y_multi_val.csv', index=True, header=True)\n",
        "\n",
        "# Kaggle Test\n",
        "kaggle_test_final_cleaned.to_csv(OUTPUT_DIR + 'kaggle_test_final_unlabeled.csv', index=False, encoding='utf-8')\n",
        "\n",
        "print(\"\\nAll final training and test data saved successfully to Google Drive.\")"
      ],
      "metadata": {
        "colab": {
          "base_uri": "https://localhost:8080/"
        },
        "id": "cTABE3Jo4VQW",
        "outputId": "a188be7d-3a3c-4e43-9f97-795e87fe418c"
      },
      "execution_count": 33,
      "outputs": [
        {
          "output_type": "stream",
          "name": "stdout",
          "text": [
            "\n",
            "All final training and test data saved successfully to Google Drive.\n"
          ]
        }
      ]
    },
    {
      "cell_type": "code",
      "source": [
        "from sklearn.feature_extraction.text import TfidfVectorizer\n",
        "from sklearn.linear_model import LogisticRegression\n",
        "from sklearn.metrics import (\n",
        "    f1_score, accuracy_score, precision_score, recall_score,\n",
        "    classification_report, confusion_matrix\n",
        ")\n",
        "import matplotlib.pyplot as plt\n",
        "import seaborn as sns\n",
        "import time, pickle\n",
        "import pandas as pd\n",
        "import os\n",
        "\n",
        "OUTPUT_DIR = '/content/drive/MyDrive/Disaster_Analyzer_Data/'\n",
        "\n",
        "# --- Load pre-saved splits ---\n",
        "X_trad_train = pd.read_csv(OUTPUT_DIR + 'X_bin_train_traditional.csv', index_col=0).squeeze(\"columns\")\n",
        "X_trad_val   = pd.read_csv(OUTPUT_DIR + 'X_bin_val_traditional.csv', index_col=0).squeeze(\"columns\")\n",
        "\n",
        "y_trad_train = pd.read_csv(OUTPUT_DIR + 'y_bin_train.csv', index_col=0).squeeze(\"columns\")\n",
        "y_trad_val   = pd.read_csv(OUTPUT_DIR + 'y_bin_val.csv', index_col=0).squeeze(\"columns\")\n",
        "\n",
        "print(\"Data loaded successfully:\")\n",
        "print(f\"Train size: {len(X_trad_train)} | Val size: {len(X_trad_val)}\")\n",
        "\n",
        "# --- Fix NaNs / empty strings ---\n",
        "X_trad_train = X_trad_train.fillna(\"\")\n",
        "X_trad_val   = X_trad_val.fillna(\"\")\n",
        "\n",
        "print(f\"Empty strings in train: {(X_trad_train=='').sum()}\")\n",
        "print(f\"Empty strings in val: {(X_trad_val=='').sum()}\")\n",
        "\n",
        "# --- TF-IDF vectorization ---\n",
        "tfidf_vectorizer_trad = TfidfVectorizer(max_features=5000, ngram_range=(1,2))\n",
        "X_train_tfidf_trad = tfidf_vectorizer_trad.fit_transform(X_trad_train)\n",
        "X_val_tfidf_trad   = tfidf_vectorizer_trad.transform(X_trad_val)\n",
        "\n",
        "# --- Train Logistic Regression ---\n",
        "print(\"\\n--- Training Logistic Regression (Baseline Model) ---\")\n",
        "start_time = time.time()\n",
        "log_reg_model_trad = LogisticRegression(max_iter=1000, class_weight=\"balanced\")\n",
        "log_reg_model_trad.fit(X_train_tfidf_trad, y_trad_train)\n",
        "end_time = time.time()\n"
      ],
      "metadata": {
        "colab": {
          "base_uri": "https://localhost:8080/"
        },
        "id": "DNBA7_3A9dMt",
        "outputId": "5bfb4961-c424-4996-8f94-ea1768111596"
      },
      "execution_count": 36,
      "outputs": [
        {
          "output_type": "stream",
          "name": "stdout",
          "text": [
            "Data loaded successfully:\n",
            "Train size: 30802 | Val size: 7701\n",
            "Empty strings in train: 9\n",
            "Empty strings in val: 0\n",
            "\n",
            "--- Training Logistic Regression (Baseline Model) ---\n"
          ]
        }
      ]
    },
    {
      "cell_type": "code",
      "source": [
        "# --- Evaluate ---\n",
        "y_pred_log_reg_trad = log_reg_model_trad.predict(X_val_tfidf_trad)\n",
        "\n",
        "acc = accuracy_score(y_trad_val, y_pred_log_reg_trad)\n",
        "prec = precision_score(y_trad_val, y_pred_log_reg_trad)\n",
        "rec = recall_score(y_trad_val, y_pred_log_reg_trad)\n",
        "f1 = f1_score(y_trad_val, y_pred_log_reg_trad)\n",
        "\n",
        "print(f\"\\nLogistic Regression (Traditional Preprocessing)\")\n",
        "print(f\"Accuracy : {acc:.4f}\")\n",
        "print(f\"Precision: {prec:.4f}\")\n",
        "print(f\"Recall   : {rec:.4f}\")\n",
        "print(f\"F1 Score : {f1:.4f}\")\n",
        "print(\"\\nClassification Report:\\n\", classification_report(y_trad_val, y_pred_log_reg_trad))\n",
        "\n",
        "# --- Confusion Matrix ---\n",
        "cm = confusion_matrix(y_trad_val, y_pred_log_reg_trad)\n",
        "plt.figure(figsize=(6,5))\n",
        "sns.heatmap(cm, annot=True, fmt=\"d\", cmap=\"Blues\", xticklabels=[0,1], yticklabels=[0,1])\n",
        "plt.xlabel(\"Predicted\")\n",
        "plt.ylabel(\"True\")\n",
        "plt.title(\"Confusion Matrix - Logistic Regression (Traditional)\")\n",
        "plt.show()\n",
        "\n",
        "print(f\"⏱ Training Time: {end_time - start_time:.2f} seconds\")\n",
        "\n",
        "# --- Save Model & Vectorizer ---\n",
        "with open(OUTPUT_DIR + 'baseline_logreg_trad_model.pkl', 'wb') as f:\n",
        "    pickle.dump(log_reg_model_trad, f)\n",
        "with open(OUTPUT_DIR + 'tfidf_vectorizer_trad.pkl', 'wb') as f:\n",
        "    pickle.dump(tfidf_vectorizer_trad, f)\n",
        "\n",
        "print(\" Model and Vectorizer saved successfully.\")"
      ],
      "metadata": {
        "colab": {
          "base_uri": "https://localhost:8080/",
          "height": 817
        },
        "id": "FgaDgn6w92o6",
        "outputId": "3b35877c-0443-46f3-f61b-4c00c11cca0f"
      },
      "execution_count": 37,
      "outputs": [
        {
          "output_type": "stream",
          "name": "stdout",
          "text": [
            "\n",
            "Logistic Regression (Traditional Preprocessing)\n",
            "Accuracy : 0.8618\n",
            "Precision: 0.9241\n",
            "Recall   : 0.8640\n",
            "F1 Score : 0.8930\n",
            "\n",
            "Classification Report:\n",
            "               precision    recall  f1-score   support\n",
            "\n",
            "           0       0.76      0.86      0.80      2561\n",
            "           1       0.92      0.86      0.89      5140\n",
            "\n",
            "    accuracy                           0.86      7701\n",
            "   macro avg       0.84      0.86      0.85      7701\n",
            "weighted avg       0.87      0.86      0.86      7701\n",
            "\n"
          ]
        },
        {
          "output_type": "display_data",
          "data": {
            "text/plain": [
              "<Figure size 600x500 with 2 Axes>"
            ],
            "image/png": "[encoded data removed]"
          },
          "metadata": {}
        },
        {
          "output_type": "stream",
          "name": "stdout",
          "text": [
            "⏱ Training Time: 0.11 seconds\n",
            " Model and Vectorizer saved successfully.\n"
          ]
        }
      ]
    },
    {
      "cell_type": "code",
      "source": [
        "import os\n",
        "os.environ[\"WANDB_DISABLED\"] = \"true\""
      ],
      "metadata": {
        "id": "DM5xr64lSAHE"
      },
      "execution_count": 46,
      "outputs": []
    },
    {
      "cell_type": "code",
      "source": [
        "import torch\n",
        "from torch.utils.data import Dataset\n",
        "from transformers import DistilBertTokenizerFast, DistilBertForSequenceClassification, Trainer, TrainingArguments\n",
        "from sklearn.model_selection import train_test_split\n",
        "from sklearn.metrics import accuracy_score, precision_score, recall_score, f1_score, classification_report, confusion_matrix\n",
        "import seaborn as sns\n",
        "import matplotlib.pyplot as plt\n",
        "import os\n",
        "\n",
        "# --- Binary dataset using text_cleaned ---\n",
        "bert_binary_data = final_train_pool[['text_cleaned', 'is_disaster']].dropna()\n",
        "bert_binary_data['is_disaster'] = bert_binary_data['is_disaster'].astype(int)\n",
        "\n",
        "# Train-test split\n",
        "bert_X_train, bert_X_val, bert_y_train, bert_y_val = train_test_split(\n",
        "    bert_binary_data['text_cleaned'],\n",
        "    bert_binary_data['is_disaster'],\n",
        "    test_size=0.2,\n",
        "    random_state=42,\n",
        "    stratify=bert_binary_data['is_disaster']\n",
        ")\n",
        "\n",
        "# Tokenizer\n",
        "bert_tokenizer = DistilBertTokenizerFast.from_pretrained('distilbert-base-uncased')\n",
        "\n",
        "bert_train_encodings = bert_tokenizer(list(bert_X_train), truncation=True, padding=True, max_length=128)\n",
        "bert_val_encodings   = bert_tokenizer(list(bert_X_val), truncation=True, padding=True, max_length=128)\n",
        "\n",
        "# Dataset class\n",
        "class BertDisasterDataset(Dataset):\n",
        "    def __init__(self, encodings, labels):\n",
        "        self.encodings = encodings\n",
        "        self.labels = labels\n",
        "    def __len__(self):\n",
        "        return len(self.labels)\n",
        "    def __getitem__(self, idx):\n",
        "        item = {key: torch.tensor(val[idx]) for key, val in self.encodings.items()}\n",
        "        item['labels'] = torch.tensor(self.labels[idx])\n",
        "        return item\n",
        "\n",
        "bert_train_dataset = BertDisasterDataset(bert_train_encodings, list(bert_y_train))\n",
        "bert_val_dataset   = BertDisasterDataset(bert_val_encodings, list(bert_y_val))\n",
        "\n",
        "# Model\n",
        "bert_model = DistilBertForSequenceClassification.from_pretrained(\"distilbert-base-uncased\", num_labels=2)\n",
        "\n",
        "# Training Arguments (newer transformers syntax)\n",
        "bert_training_args = TrainingArguments(\n",
        "    output_dir='/content/drive/MyDrive/Disaster_Analyzer_Data/DistilBERT/results',\n",
        "    num_train_epochs=2,\n",
        "    per_device_train_batch_size=16,\n",
        "    per_device_eval_batch_size=64,\n",
        "    eval_strategy=\"epoch\",\n",
        "    save_strategy=\"epoch\",\n",
        "    logging_dir='/content/drive/MyDrive/Disaster_Analyzer_Data/DistilBERT/logs',\n",
        "    logging_steps=50,\n",
        "    load_best_model_at_end=True,\n",
        "    metric_for_best_model=\"f1\",\n",
        "    save_total_limit=2,\n",
        ")\n",
        "\n",
        "# Define compute_metrics function\n",
        "def bert_compute_metrics(pred):\n",
        "    labels = pred.label_ids\n",
        "    preds = pred.predictions.argmax(-1)\n",
        "    acc = accuracy_score(labels, preds)\n",
        "    prec = precision_score(labels, preds)\n",
        "    rec = recall_score(labels, preds)\n",
        "    f1 = f1_score(labels, preds)\n",
        "    return {\"accuracy\": acc, \"precision\": prec, \"recall\": rec, \"f1\": f1}\n",
        "\n",
        "# Trainer\n",
        "bert_trainer = Trainer(\n",
        "    model=bert_model,\n",
        "    args=bert_training_args,\n",
        "    train_dataset=bert_train_dataset,\n",
        "    eval_dataset=bert_val_dataset,\n",
        "    tokenizer=bert_tokenizer,\n",
        "    compute_metrics=bert_compute_metrics,\n",
        ")\n",
        "\n",
        "# --- Train ---\n",
        "bert_trainer.train()\n",
        "\n",
        "# --- Save Model & Tokenizer ---\n",
        "save_dir = \"/content/drive/MyDrive/Disaster_Analyzer_Data/DistilBERT/saved_model\"\n",
        "os.makedirs(save_dir, exist_ok=True)\n",
        "bert_model.save_pretrained(save_dir)\n",
        "bert_tokenizer.save_pretrained(save_dir)\n",
        "\n",
        "print(f\"DistilBERT model & tokenizer saved at {save_dir}\")\n",
        "\n",
        "# --- Evaluate ---\n",
        "bert_preds = bert_trainer.predict(bert_val_dataset)\n",
        "bert_y_preds = bert_preds.predictions.argmax(-1)\n",
        "\n",
        "print(\"\\nEvaluation Metrics (DistilBERT)\")\n",
        "print(\"Accuracy :\", accuracy_score(bert_y_val, bert_y_preds))\n",
        "print(\"Precision:\", precision_score(bert_y_val, bert_y_preds))\n",
        "print(\"Recall   :\", recall_score(bert_y_val, bert_y_preds))\n",
        "print(\"F1 Score :\", f1_score(bert_y_val, bert_y_preds))\n",
        "print(\"\\nClassification Report:\\n\", classification_report(bert_y_val, bert_y_preds))\n",
        "\n",
        "# --- Confusion Matrix ---\n",
        "bert_cm = confusion_matrix(bert_y_val, bert_y_preds)\n",
        "sns.heatmap(bert_cm, annot=True, fmt='d', cmap='Blues')\n",
        "plt.title(\"Confusion Matrix - DistilBERT\")\n",
        "plt.xlabel(\"Predicted\")\n",
        "plt.ylabel(\"True\")\n",
        "plt.show()"
      ],
      "metadata": {
        "colab": {
          "base_uri": "https://localhost:8080/",
          "height": 1000
        },
        "id": "ho2kEkBj4gXo",
        "outputId": "ccc796b6-6272-46fa-95ed-7e3c70180921"
      },
      "execution_count": 47,
      "outputs": [
        {
          "output_type": "stream",
          "name": "stderr",
          "text": [
            "Some weights of DistilBertForSequenceClassification were not initialized from the model checkpoint at distilbert-base-uncased and are newly initialized: ['classifier.bias', 'classifier.weight', 'pre_classifier.bias', 'pre_classifier.weight']\n",
            "You should probably TRAIN this model on a down-stream task to be able to use it for predictions and inference.\n",
            "Using the `WANDB_DISABLED` environment variable is deprecated and will be removed in v5. Use the --report_to flag to control the integrations used for logging result (for instance --report_to none).\n",
            "/tmp/ipython-input-24088088.py:73: FutureWarning: `tokenizer` is deprecated and will be removed in version 5.0.0 for `Trainer.__init__`. Use `processing_class` instead.\n",
            "  bert_trainer = Trainer(\n"
          ]
        },
        {
          "output_type": "display_data",
          "data": {
            "text/plain": [
              "<IPython.core.display.HTML object>"
            ],
            "text/html": [
              "\n",
              "    <div>\n",
              "      \n",
              "      <progress value='3852' max='3852' style='width:300px; height:20px; vertical-align: middle;'></progress>\n",
              "      [3852/3852 06:07, Epoch 2/2]\n",
              "    </div>\n",
              "    <table border=\"1\" class=\"dataframe\">\n",
              "  <thead>\n",
              " <tr style=\"text-align: left;\">\n",
              "      <th>Epoch</th>\n",
              "      <th>Training Loss</th>\n",
              "      <th>Validation Loss</th>\n",
              "      <th>Accuracy</th>\n",
              "      <th>Precision</th>\n",
              "      <th>Recall</th>\n",
              "      <th>F1</th>\n",
              "    </tr>\n",
              "  </thead>\n",
              "  <tbody>\n",
              "    <tr>\n",
              "      <td>1</td>\n",
              "      <td>0.305800</td>\n",
              "      <td>0.298421</td>\n",
              "      <td>0.887417</td>\n",
              "      <td>0.908274</td>\n",
              "      <td>0.924708</td>\n",
              "      <td>0.916418</td>\n",
              "    </tr>\n",
              "    <tr>\n",
              "      <td>2</td>\n",
              "      <td>0.179700</td>\n",
              "      <td>0.319979</td>\n",
              "      <td>0.890793</td>\n",
              "      <td>0.912810</td>\n",
              "      <td>0.924708</td>\n",
              "      <td>0.918720</td>\n",
              "    </tr>\n",
              "  </tbody>\n",
              "</table><p>"
            ]
          },
          "metadata": {}
        },
        {
          "output_type": "stream",
          "name": "stdout",
          "text": [
            "DistilBERT model & tokenizer saved at /content/drive/MyDrive/Disaster_Analyzer_Data/DistilBERT/saved_model\n"
          ]
        },
        {
          "output_type": "display_data",
          "data": {
            "text/plain": [
              "<IPython.core.display.HTML object>"
            ],
            "text/html": []
          },
          "metadata": {}
        },
        {
          "output_type": "stream",
          "name": "stdout",
          "text": [
            "\n",
            "Evaluation Metrics (DistilBERT)\n",
            "Accuracy : 0.8907934034540969\n",
            "Precision: 0.9128096792778951\n",
            "Recall   : 0.9247081712062257\n",
            "F1 Score : 0.918720402048903\n",
            "\n",
            "Classification Report:\n",
            "               precision    recall  f1-score   support\n",
            "\n",
            "           0       0.84      0.82      0.83      2561\n",
            "           1       0.91      0.92      0.92      5140\n",
            "\n",
            "    accuracy                           0.89      7701\n",
            "   macro avg       0.88      0.87      0.88      7701\n",
            "weighted avg       0.89      0.89      0.89      7701\n",
            "\n"
          ]
        },
        {
          "output_type": "display_data",
          "data": {
            "text/plain": [
              "<Figure size 640x480 with 2 Axes>"
            ],
            "image/png": "[encoded data removed]"
          },
          "metadata": {}
        }
      ]
    },
    {
      "cell_type": "code",
      "source": [
        "from transformers import DistilBertTokenizerFast, DistilBertForSequenceClassification, Trainer, TrainingArguments\n",
        "from sklearn.metrics import accuracy_score, precision_recall_fscore_support, classification_report\n",
        "import torch\n",
        "import numpy as np\n",
        "import os\n",
        "import pandas as pd\n",
        "\n",
        "\n",
        "MODEL_NAME = 'distilbert-base-uncased'\n",
        "MODELS_DIR = '/content/drive/MyDrive/Disaster_Analyzer_Data/Models/'\n",
        "\n",
        "# --- 1. Determine Labels and Mapping (CRITICAL FOR MULTI-CLASS) ---\n",
        "# We must map the string labels (like 'requests_or_urgent_needs') to unique integers (0, 1, 2, ...)\n",
        "label_list = sorted(list(y_multi_train.unique()))\n",
        "label_to_id = {label: i for i, label in enumerate(label_list)}\n",
        "NUM_MULTI_LABELS = len(label_list)\n",
        "\n",
        "# Map the string labels to integers for training\n",
        "y_multi_train_ids = y_multi_train.map(label_to_id)\n",
        "y_multi_val_ids = y_multi_val.map(label_to_id)\n",
        "\n",
        "print(f\"Total Unique Multi-Classes: {NUM_MULTI_LABELS}\")\n",
        "print(f\"Sample Mapped Labels: {list(label_to_id.items())[:3]}\")\n",
        "print(\"---\")\n",
        "\n",
        "# --- 2. Tokenization and Dataset Creation ---\n",
        "tokenizer_multi = DistilBertTokenizerFast.from_pretrained(MODEL_NAME)\n",
        "\n",
        "train_encodings_multi = tokenizer_multi(list(X_multi_train), truncation=True, padding=True, max_length=128)\n",
        "val_encodings_multi   = tokenizer_multi(list(X_multi_val), truncation=True, padding=True, max_length=128)\n",
        "\n",
        "# Re-using the previously defined BertDisasterDataset class\n",
        "class BertDisasterDataset(torch.utils.data.Dataset):\n",
        "    def __init__(self, encodings, labels):\n",
        "        self.encodings = encodings\n",
        "        self.labels = labels\n",
        "    def __len__(self):\n",
        "        return len(self.labels)\n",
        "    def __getitem__(self, idx):\n",
        "        item = {key: torch.tensor(val[idx]) for key, val in self.encodings.items()}\n",
        "        item['labels'] = torch.tensor(self.labels[idx])\n",
        "        return item\n",
        "\n",
        "train_dataset_multi = BertDisasterDataset(train_encodings_multi, list(y_multi_train_ids))\n",
        "val_dataset_multi   = BertDisasterDataset(val_encodings_multi, list(y_multi_val_ids))\n",
        "\n",
        "# Model initialization: num_labels is set to the count of your unique sub-categories\n",
        "model_multi = DistilBertForSequenceClassification.from_pretrained(MODEL_NAME, num_labels=NUM_MULTI_LABELS)\n",
        "\n",
        "# --- 3. Metrics Function (Adjusted for Multi-Class) ---\n",
        "def compute_metrics_multi(pred):\n",
        "    labels = pred.label_ids\n",
        "    preds = pred.predictions.argmax(-1)\n",
        "    acc = accuracy_score(labels, preds)\n",
        "    # CRITICAL CHANGE: Use 'weighted' average for multi-class F1/Precision/Recall\n",
        "    prec, rec, f1, _ = precision_recall_fscore_support(labels, preds, average=\"weighted\", zero_division=0)\n",
        "    return {\"accuracy\": acc, \"precision\": prec, \"recall\": rec, \"f1\": f1}\n",
        "\n",
        "# --- 4. Trainer and Training ---\n",
        "training_args_multi = TrainingArguments(\n",
        "    output_dir=MODELS_DIR + 'distilbert_multi_results',\n",
        "    num_train_epochs=3,\n",
        "    per_device_train_batch_size=16,\n",
        "    per_device_eval_batch_size=64,\n",
        "    eval_strategy=\"epoch\",\n",
        "    save_strategy=\"epoch\",\n",
        "    learning_rate=2e-5,\n",
        "    weight_decay=0.01,\n",
        "    logging_dir='./logs_multi',\n",
        "    logging_steps=500,\n",
        "    load_best_model_at_end=True,\n",
        "    metric_for_best_model=\"f1\",\n",
        "    save_total_limit=1,\n",
        "    report_to=\"none\"\n",
        ")\n",
        "\n",
        "trainer_multi = Trainer(\n",
        "    model=model_multi,\n",
        "    args=training_args_multi,\n",
        "    train_dataset=train_dataset_multi,\n",
        "    eval_dataset=val_dataset_multi,\n",
        "    compute_metrics=compute_metrics_multi,\n",
        "    tokenizer=tokenizer_multi,\n",
        ")\n",
        "\n",
        "print(\"\\nStarting DistilBERT Multi-Class Model Training...\")\n",
        "trainer_multi.train()\n",
        "\n",
        "# --- 5. Final Evaluation and Saving ---\n",
        "multi_preds = trainer_multi.predict(val_dataset_multi)\n",
        "multi_y_preds = multi_preds.predictions.argmax(-1)\n",
        "\n",
        "print(\"\\n DistilBERT Evaluation Results (Multi-Class Category)\")\n",
        "# Print the full classification report using the original string labels\n",
        "print(\"\\nClassification Report:\\n\", classification_report(y_multi_val_ids, multi_y_preds, target_names=label_list, zero_division=0))\n",
        "\n",
        "# Create the new subfolder path\n",
        "MULTI_MODEL_PATH = MODELS_DIR + \"distilbert_multi_category_model/\"\n",
        "os.makedirs(MULTI_MODEL_PATH, exist_ok=True)\n",
        "\n",
        "# Save the Multi-Class Model and Tokenizer to the new subfolder\n",
        "model_multi.save_pretrained(MULTI_MODEL_PATH)\n",
        "tokenizer_multi.save_pretrained(MULTI_MODEL_PATH)\n",
        "print(f\" DistilBERT Multi-Class Model saved to {MULTI_MODEL_PATH}\")"
      ],
      "metadata": {
        "colab": {
          "base_uri": "https://localhost:8080/",
          "height": 814
        },
        "id": "x8ruLdMRJoHS",
        "outputId": "6eb4daee-2ab0-4005-b00f-e73bbf17a193"
      },
      "execution_count": 48,
      "outputs": [
        {
          "output_type": "stream",
          "name": "stdout",
          "text": [
            "Total Unique Multi-Classes: 15\n",
            "Sample Mapped Labels: [('caution_and_advice', 0), ('direct-eyewitness', 1), ('displaced_people_and_evacuations', 2)]\n",
            "---\n"
          ]
        },
        {
          "output_type": "stream",
          "name": "stderr",
          "text": [
            "Some weights of DistilBertForSequenceClassification were not initialized from the model checkpoint at distilbert-base-uncased and are newly initialized: ['classifier.bias', 'classifier.weight', 'pre_classifier.bias', 'pre_classifier.weight']\n",
            "You should probably TRAIN this model on a down-stream task to be able to use it for predictions and inference.\n",
            "/tmp/ipython-input-2384719333.py:77: FutureWarning: `tokenizer` is deprecated and will be removed in version 5.0.0 for `Trainer.__init__`. Use `processing_class` instead.\n",
            "  trainer_multi = Trainer(\n"
          ]
        },
        {
          "output_type": "stream",
          "name": "stdout",
          "text": [
            "\n",
            "Starting DistilBERT Multi-Class Model Training...\n"
          ]
        },
        {
          "output_type": "display_data",
          "data": {
            "text/plain": [
              "<IPython.core.display.HTML object>"
            ],
            "text/html": [
              "\n",
              "    <div>\n",
              "      \n",
              "      <progress value='4635' max='4635' style='width:300px; height:20px; vertical-align: middle;'></progress>\n",
              "      [4635/4635 07:42, Epoch 3/3]\n",
              "    </div>\n",
              "    <table border=\"1\" class=\"dataframe\">\n",
              "  <thead>\n",
              " <tr style=\"text-align: left;\">\n",
              "      <th>Epoch</th>\n",
              "      <th>Training Loss</th>\n",
              "      <th>Validation Loss</th>\n",
              "      <th>Accuracy</th>\n",
              "      <th>Precision</th>\n",
              "      <th>Recall</th>\n",
              "      <th>F1</th>\n",
              "    </tr>\n",
              "  </thead>\n",
              "  <tbody>\n",
              "    <tr>\n",
              "      <td>1</td>\n",
              "      <td>0.725300</td>\n",
              "      <td>0.694333</td>\n",
              "      <td>0.777112</td>\n",
              "      <td>0.762897</td>\n",
              "      <td>0.777112</td>\n",
              "      <td>0.763578</td>\n",
              "    </tr>\n",
              "    <tr>\n",
              "      <td>2</td>\n",
              "      <td>0.562100</td>\n",
              "      <td>0.658510</td>\n",
              "      <td>0.781968</td>\n",
              "      <td>0.769416</td>\n",
              "      <td>0.781968</td>\n",
              "      <td>0.773975</td>\n",
              "    </tr>\n",
              "    <tr>\n",
              "      <td>3</td>\n",
              "      <td>0.451900</td>\n",
              "      <td>0.670046</td>\n",
              "      <td>0.788605</td>\n",
              "      <td>0.777741</td>\n",
              "      <td>0.788605</td>\n",
              "      <td>0.781682</td>\n",
              "    </tr>\n",
              "  </tbody>\n",
              "</table><p>"
            ]
          },
          "metadata": {}
        },
        {
          "output_type": "display_data",
          "data": {
            "text/plain": [
              "<IPython.core.display.HTML object>"
            ],
            "text/html": []
          },
          "metadata": {}
        },
        {
          "output_type": "stream",
          "name": "stdout",
          "text": [
            "\n",
            " DistilBERT Evaluation Results (Multi-Class Category)\n",
            "\n",
            "Classification Report:\n",
            "                                         precision    recall  f1-score   support\n",
            "\n",
            "                    caution_and_advice       0.62      0.63      0.63       271\n",
            "                     direct-eyewitness       0.68      0.64      0.66       103\n",
            "      displaced_people_and_evacuations       0.89      0.95      0.92       365\n",
            "                            don't know       0.90      0.92      0.91       930\n",
            "                   indirect-eyewitness       0.00      0.00      0.00         6\n",
            "     infrastructure_and_utility_damage       0.82      0.88      0.85       720\n",
            "                injured_or_dead_people       0.92      0.95      0.93       489\n",
            "                        non-eyewitness       0.75      0.70      0.72       107\n",
            "                      not_humanitarian       0.42      0.24      0.31       237\n",
            "            other_relevant_information       0.59      0.56      0.58       936\n",
            "              requests_or_urgent_needs       0.61      0.53      0.56       133\n",
            "rescue_volunteering_or_donation_effort       0.83      0.89      0.86      1409\n",
            "                  sympathy_and_support       0.81      0.78      0.80       418\n",
            "          vulnerable direct-eyewitness       0.82      0.82      0.82        17\n",
            "             vulnerable-direct witness       0.55      0.46      0.50        37\n",
            "\n",
            "                              accuracy                           0.79      6178\n",
            "                             macro avg       0.68      0.66      0.67      6178\n",
            "                          weighted avg       0.78      0.79      0.78      6178\n",
            "\n",
            " DistilBERT Multi-Class Model saved to /content/drive/MyDrive/Disaster_Analyzer_Data/Models/distilbert_multi_category_model/\n"
          ]
        }
      ]
    },
    {
      "cell_type": "code",
      "source": [
        "\n",
        "from transformers import DistilBertTokenizerFast, DistilBertForSequenceClassification, Trainer, TrainingArguments\n",
        "from sklearn.metrics import accuracy_score, precision_recall_fscore_support, classification_report\n",
        "import torch\n",
        "import numpy as np\n",
        "import os\n",
        "import pandas as pd\n",
        "\n",
        "# --- Configuration ---\n",
        "# Assuming X_multi_train/val and y_multi_train/val are loaded in memory\n",
        "MODEL_NAME = 'distilbert-base-uncased'\n",
        "MODELS_DIR = '/content/drive/MyDrive/Disaster_Analyzer_Data/Models/'\n",
        "\n",
        "# Define the NEW, SPECIFIC save path for the finetuned model\n",
        "FINETUNED_MODEL_NAME = \"distilbert_multi_category_model_finetuned\"\n",
        "FINETUNED_MODEL_PATH = MODELS_DIR + FINETUNED_MODEL_NAME + \"/\"\n",
        "os.makedirs(FINETUNED_MODEL_PATH, exist_ok=True) # Ensure the directory exists\n",
        "\n",
        "# --- 1. Determine Labels and Mapping (CRITICAL FOR MULTI-CLASS) ---\n",
        "label_list = sorted(list(y_multi_train.unique()))\n",
        "label_to_id = {label: i for i, label in enumerate(label_list)}\n",
        "NUM_MULTI_LABELS = len(label_list)\n",
        "\n",
        "# Map the string labels to integers for training\n",
        "y_multi_train_ids = y_multi_train.map(label_to_id)\n",
        "y_multi_val_ids = y_multi_val.map(label_to_id)\n",
        "\n",
        "print(f\"Total Unique Multi-Classes: {NUM_MULTI_LABELS}\")\n",
        "print(f\"Sample Mapped Labels: {list(label_to_id.items())[:3]}\")\n",
        "print(\"---\")\n",
        "\n",
        "# --- 2. Tokenization and Dataset Creation ---\n",
        "tokenizer_multi = DistilBertTokenizerFast.from_pretrained(MODEL_NAME)\n",
        "\n",
        "train_encodings_multi = tokenizer_multi(list(X_multi_train), truncation=True, padding=True, max_length=128)\n",
        "val_encodings_multi   = tokenizer_multi(list(X_multi_val), truncation=True, padding=True, max_length=128)\n",
        "\n",
        "# Re-using the previously defined BertDisasterDataset class\n",
        "class BertDisasterDataset(torch.utils.data.Dataset):\n",
        "    def __init__(self, encodings, labels):\n",
        "        self.encodings = encodings\n",
        "        self.labels = labels\n",
        "    def __len__(self):\n",
        "        return len(self.labels)\n",
        "    def __getitem__(self, idx):\n",
        "        item = {key: torch.tensor(val[idx]) for key, val in self.encodings.items()}\n",
        "        item['labels'] = torch.tensor(self.labels[idx])\n",
        "        return item\n",
        "\n",
        "train_dataset_multi = BertDisasterDataset(train_encodings_multi, list(y_multi_train_ids))\n",
        "val_dataset_multi   = BertDisasterDataset(val_encodings_multi, list(y_multi_val_ids))\n",
        "\n",
        "# Model initialization: num_labels is set to the count of your unique sub-categories\n",
        "model_multi_finetuned = DistilBertForSequenceClassification.from_pretrained(MODEL_NAME, num_labels=NUM_MULTI_LABELS)\n",
        "\n",
        "# --- 3. Metrics Function (Adjusted for Multi-Class) ---\n",
        "def compute_metrics_multi(pred):\n",
        "    labels = pred.label_ids\n",
        "    preds = pred.predictions.argmax(-1)\n",
        "    acc = accuracy_score(labels, preds)\n",
        "    # Use 'weighted' average for multi-class F1/Precision/Recall\n",
        "    prec, rec, f1, _ = precision_recall_fscore_support(labels, preds, average=\"weighted\", zero_division=0)\n",
        "    return {\"accuracy\": acc, \"precision\": prec, \"recall\": rec, \"f1\": f1}\n",
        "\n",
        "# --- 4. Trainer and Training ---\n",
        "# CRITICAL CHANGE: num_train_epochs is 5\n",
        "training_args_multi = TrainingArguments(\n",
        "    output_dir=MODELS_DIR + 'distilbert_multi_results_finetuned',\n",
        "    num_train_epochs=5, # INCREASED EPOCHS FOR FINETUNING\n",
        "    per_device_train_batch_size=16,\n",
        "    per_device_eval_batch_size=64,\n",
        "    eval_strategy=\"epoch\",\n",
        "    save_strategy=\"epoch\",\n",
        "    learning_rate=2e-5,\n",
        "    weight_decay=0.01,\n",
        "    logging_dir='./logs_multi_finetuned',\n",
        "    logging_steps=500,\n",
        "    load_best_model_at_end=True,\n",
        "    metric_for_best_model=\"f1\",\n",
        "    save_total_limit=1,\n",
        "    report_to=\"none\"\n",
        ")\n",
        "\n",
        "trainer_multi_finetuned = Trainer(\n",
        "    model=model_multi_finetuned,\n",
        "    args=training_args_multi,\n",
        "    train_dataset=train_dataset_multi,\n",
        "    eval_dataset=val_dataset_multi,\n",
        "    compute_metrics=compute_metrics_multi,\n",
        "    tokenizer=tokenizer_multi,\n",
        ")\n",
        "\n",
        "print(\"\\nStarting Finetuning of Multi-Class Model for 5 Epochs \")\n",
        "trainer_multi_finetuned.train()\n",
        "\n",
        "# --- 5. Final Evaluation and Saving ---\n",
        "multi_preds_finetuned = trainer_multi_finetuned.predict(val_dataset_multi)\n",
        "multi_y_preds_finetuned = multi_preds_finetuned.predictions.argmax(-1)\n",
        "\n",
        "print(\"\\n DistilBERT Evaluation Results (Multi-Class FINETUNED)\")\n",
        "# Print the full classification report using the original string labels\n",
        "print(\"\\nClassification Report:\\n\", classification_report(y_multi_val_ids, multi_y_preds_finetuned, target_names=label_list, zero_division=0))\n",
        "\n",
        "# Save the Finetuned Model to the new path\n",
        "model_multi_finetuned.save_pretrained(FINETUNED_MODEL_PATH)\n",
        "tokenizer_multi.save_pretrained(FINETUNED_MODEL_PATH)\n",
        "print(f\" FINETUNED DistilBERT Multi-Class Model saved to {FINETUNED_MODEL_PATH}\")"
      ],
      "metadata": {
        "colab": {
          "base_uri": "https://localhost:8080/",
          "height": 877
        },
        "id": "jqwjDGe7ZUvs",
        "outputId": "e9d880bf-1021-4cd5-8a2e-37105cdb6c9e"
      },
      "execution_count": 49,
      "outputs": [
        {
          "output_type": "stream",
          "name": "stdout",
          "text": [
            "Total Unique Multi-Classes: 15\n",
            "Sample Mapped Labels: [('caution_and_advice', 0), ('direct-eyewitness', 1), ('displaced_people_and_evacuations', 2)]\n",
            "---\n"
          ]
        },
        {
          "output_type": "stream",
          "name": "stderr",
          "text": [
            "Some weights of DistilBertForSequenceClassification were not initialized from the model checkpoint at distilbert-base-uncased and are newly initialized: ['classifier.bias', 'classifier.weight', 'pre_classifier.bias', 'pre_classifier.weight']\n",
            "You should probably TRAIN this model on a down-stream task to be able to use it for predictions and inference.\n",
            "/tmp/ipython-input-1575254006.py:83: FutureWarning: `tokenizer` is deprecated and will be removed in version 5.0.0 for `Trainer.__init__`. Use `processing_class` instead.\n",
            "  trainer_multi_finetuned = Trainer(\n"
          ]
        },
        {
          "output_type": "stream",
          "name": "stdout",
          "text": [
            "\n",
            "Starting Finetuning of Multi-Class Model for 5 Epochs \n"
          ]
        },
        {
          "output_type": "display_data",
          "data": {
            "text/plain": [
              "<IPython.core.display.HTML object>"
            ],
            "text/html": [
              "\n",
              "    <div>\n",
              "      \n",
              "      <progress value='7725' max='7725' style='width:300px; height:20px; vertical-align: middle;'></progress>\n",
              "      [7725/7725 12:38, Epoch 5/5]\n",
              "    </div>\n",
              "    <table border=\"1\" class=\"dataframe\">\n",
              "  <thead>\n",
              " <tr style=\"text-align: left;\">\n",
              "      <th>Epoch</th>\n",
              "      <th>Training Loss</th>\n",
              "      <th>Validation Loss</th>\n",
              "      <th>Accuracy</th>\n",
              "      <th>Precision</th>\n",
              "      <th>Recall</th>\n",
              "      <th>F1</th>\n",
              "    </tr>\n",
              "  </thead>\n",
              "  <tbody>\n",
              "    <tr>\n",
              "      <td>1</td>\n",
              "      <td>0.726500</td>\n",
              "      <td>0.685680</td>\n",
              "      <td>0.777436</td>\n",
              "      <td>0.762484</td>\n",
              "      <td>0.777436</td>\n",
              "      <td>0.764661</td>\n",
              "    </tr>\n",
              "    <tr>\n",
              "      <td>2</td>\n",
              "      <td>0.566200</td>\n",
              "      <td>0.665419</td>\n",
              "      <td>0.778407</td>\n",
              "      <td>0.769989</td>\n",
              "      <td>0.778407</td>\n",
              "      <td>0.772101</td>\n",
              "    </tr>\n",
              "    <tr>\n",
              "      <td>3</td>\n",
              "      <td>0.440800</td>\n",
              "      <td>0.678283</td>\n",
              "      <td>0.785529</td>\n",
              "      <td>0.775956</td>\n",
              "      <td>0.785529</td>\n",
              "      <td>0.779713</td>\n",
              "    </tr>\n",
              "    <tr>\n",
              "      <td>4</td>\n",
              "      <td>0.345000</td>\n",
              "      <td>0.732144</td>\n",
              "      <td>0.782778</td>\n",
              "      <td>0.777261</td>\n",
              "      <td>0.782778</td>\n",
              "      <td>0.779624</td>\n",
              "    </tr>\n",
              "    <tr>\n",
              "      <td>5</td>\n",
              "      <td>0.255900</td>\n",
              "      <td>0.779123</td>\n",
              "      <td>0.779055</td>\n",
              "      <td>0.771039</td>\n",
              "      <td>0.779055</td>\n",
              "      <td>0.774352</td>\n",
              "    </tr>\n",
              "  </tbody>\n",
              "</table><p>"
            ]
          },
          "metadata": {}
        },
        {
          "output_type": "display_data",
          "data": {
            "text/plain": [
              "<IPython.core.display.HTML object>"
            ],
            "text/html": []
          },
          "metadata": {}
        },
        {
          "output_type": "stream",
          "name": "stdout",
          "text": [
            "\n",
            " DistilBERT Evaluation Results (Multi-Class FINETUNED)\n",
            "\n",
            "Classification Report:\n",
            "                                         precision    recall  f1-score   support\n",
            "\n",
            "                    caution_and_advice       0.66      0.58      0.62       271\n",
            "                     direct-eyewitness       0.69      0.66      0.67       103\n",
            "      displaced_people_and_evacuations       0.89      0.93      0.91       365\n",
            "                            don't know       0.90      0.92      0.91       930\n",
            "                   indirect-eyewitness       0.00      0.00      0.00         6\n",
            "     infrastructure_and_utility_damage       0.82      0.88      0.85       720\n",
            "                injured_or_dead_people       0.89      0.96      0.93       489\n",
            "                        non-eyewitness       0.72      0.75      0.73       107\n",
            "                      not_humanitarian       0.37      0.31      0.34       237\n",
            "            other_relevant_information       0.61      0.54      0.58       936\n",
            "              requests_or_urgent_needs       0.59      0.49      0.53       133\n",
            "rescue_volunteering_or_donation_effort       0.83      0.88      0.85      1409\n",
            "                  sympathy_and_support       0.79      0.79      0.79       418\n",
            "          vulnerable direct-eyewitness       0.93      0.76      0.84        17\n",
            "             vulnerable-direct witness       0.50      0.51      0.51        37\n",
            "\n",
            "                              accuracy                           0.79      6178\n",
            "                             macro avg       0.68      0.67      0.67      6178\n",
            "                          weighted avg       0.78      0.79      0.78      6178\n",
            "\n",
            " FINETUNED DistilBERT Multi-Class Model saved to /content/drive/MyDrive/Disaster_Analyzer_Data/Models/distilbert_multi_category_model_finetuned/\n"
          ]
        }
      ]
    }
  ]
}